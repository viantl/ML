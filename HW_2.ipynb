{
 "cells": [
  {
   "cell_type": "markdown",
   "metadata": {},
   "source": [
    "## Вебинар 2. (Выполнение домашнего задания - ниже)"
   ]
  },
  {
   "cell_type": "code",
   "execution_count": 201,
   "metadata": {},
   "outputs": [],
   "source": [
    "import pandas as pd"
   ]
  },
  {
   "cell_type": "code",
   "execution_count": 202,
   "metadata": {},
   "outputs": [
    {
     "name": "stdout",
     "output_type": "stream",
     "text": [
      "(27000, 2)\n"
     ]
    },
    {
     "data": {
      "text/html": [
       "<div>\n",
       "<style scoped>\n",
       "    .dataframe tbody tr th:only-of-type {\n",
       "        vertical-align: middle;\n",
       "    }\n",
       "\n",
       "    .dataframe tbody tr th {\n",
       "        vertical-align: top;\n",
       "    }\n",
       "\n",
       "    .dataframe thead th {\n",
       "        text-align: right;\n",
       "    }\n",
       "</style>\n",
       "<table border=\"1\" class=\"dataframe\">\n",
       "  <thead>\n",
       "    <tr style=\"text-align: right;\">\n",
       "      <th></th>\n",
       "      <th>doc_id</th>\n",
       "      <th>title</th>\n",
       "    </tr>\n",
       "  </thead>\n",
       "  <tbody>\n",
       "    <tr>\n",
       "      <th>0</th>\n",
       "      <td>6</td>\n",
       "      <td>Заместитель председателяnправительства РФnСерг...</td>\n",
       "    </tr>\n",
       "    <tr>\n",
       "      <th>1</th>\n",
       "      <td>4896</td>\n",
       "      <td>Матч 1/16 финала Кубка России по футболу был п...</td>\n",
       "    </tr>\n",
       "    <tr>\n",
       "      <th>2</th>\n",
       "      <td>4897</td>\n",
       "      <td>Форвард «Авангарда» Томаш Заборский прокоммент...</td>\n",
       "    </tr>\n",
       "  </tbody>\n",
       "</table>\n",
       "</div>"
      ],
      "text/plain": [
       "   doc_id                                              title\n",
       "0       6  Заместитель председателяnправительства РФnСерг...\n",
       "1    4896  Матч 1/16 финала Кубка России по футболу был п...\n",
       "2    4897  Форвард «Авангарда» Томаш Заборский прокоммент..."
      ]
     },
     "execution_count": 202,
     "metadata": {},
     "output_type": "execute_result"
    }
   ],
   "source": [
    "news = pd.read_csv(\"materials.csv\")\n",
    "print(news.shape)\n",
    "news.head(3)"
   ]
  },
  {
   "cell_type": "markdown",
   "metadata": {},
   "source": [
    "Загрузим пользователей и списки последних прочитанных новостей"
   ]
  },
  {
   "cell_type": "code",
   "execution_count": 203,
   "metadata": {},
   "outputs": [
    {
     "data": {
      "text/html": [
       "<div>\n",
       "<style scoped>\n",
       "    .dataframe tbody tr th:only-of-type {\n",
       "        vertical-align: middle;\n",
       "    }\n",
       "\n",
       "    .dataframe tbody tr th {\n",
       "        vertical-align: top;\n",
       "    }\n",
       "\n",
       "    .dataframe thead th {\n",
       "        text-align: right;\n",
       "    }\n",
       "</style>\n",
       "<table border=\"1\" class=\"dataframe\">\n",
       "  <thead>\n",
       "    <tr style=\"text-align: right;\">\n",
       "      <th></th>\n",
       "      <th>uid</th>\n",
       "      <th>articles</th>\n",
       "    </tr>\n",
       "  </thead>\n",
       "  <tbody>\n",
       "    <tr>\n",
       "      <th>0</th>\n",
       "      <td>u105138</td>\n",
       "      <td>[293672, 293328, 293001, 293622, 293126, 1852]</td>\n",
       "    </tr>\n",
       "    <tr>\n",
       "      <th>1</th>\n",
       "      <td>u108690</td>\n",
       "      <td>[3405, 1739, 2972, 1158, 1599, 322665]</td>\n",
       "    </tr>\n",
       "    <tr>\n",
       "      <th>2</th>\n",
       "      <td>u108339</td>\n",
       "      <td>[1845, 2009, 2356, 1424, 2939, 323389]</td>\n",
       "    </tr>\n",
       "  </tbody>\n",
       "</table>\n",
       "</div>"
      ],
      "text/plain": [
       "       uid                                        articles\n",
       "0  u105138  [293672, 293328, 293001, 293622, 293126, 1852]\n",
       "1  u108690          [3405, 1739, 2972, 1158, 1599, 322665]\n",
       "2  u108339          [1845, 2009, 2356, 1424, 2939, 323389]"
      ]
     },
     "execution_count": 203,
     "metadata": {},
     "output_type": "execute_result"
    }
   ],
   "source": [
    "users = pd.read_csv(\"users_articles.csv\")\n",
    "users.head(3)"
   ]
  },
  {
   "cell_type": "markdown",
   "metadata": {},
   "source": [
    "Итак, нам нужно получить векторные представления пользователей на основе прочитанным ими новостей и самих новостей"
   ]
  },
  {
   "cell_type": "markdown",
   "metadata": {},
   "source": [
    "### 1. Получаем векторные представления новостей"
   ]
  },
  {
   "cell_type": "code",
   "execution_count": 204,
   "metadata": {},
   "outputs": [],
   "source": [
    "#from gensim.test.utils import common_texts\n",
    "from gensim.corpora.dictionary import Dictionary"
   ]
  },
  {
   "cell_type": "code",
   "execution_count": 205,
   "metadata": {},
   "outputs": [],
   "source": [
    "#предобработка текстов\n",
    "import re\n",
    "import numpy as np\n",
    "from nltk.corpus import stopwords\n",
    "#from nltk.tokenize import word_tokenize\n",
    "\n",
    "from razdel import tokenize # https://github.com/natasha/razdel\n",
    "#!pip install razdel\n",
    "\n",
    "import pymorphy2  # pip install pymorphy2"
   ]
  },
  {
   "cell_type": "code",
   "execution_count": 206,
   "metadata": {},
   "outputs": [
    {
     "name": "stderr",
     "output_type": "stream",
     "text": [
      "[nltk_data] Downloading package stopwords to C:\\Users\\Олег\n",
      "[nltk_data]     Иванович\\AppData\\Roaming\\nltk_data...\n",
      "[nltk_data]   Package stopwords is already up-to-date!\n"
     ]
    }
   ],
   "source": [
    "import nltk\n",
    "nltk.download('stopwords')\n",
    "stopword_ru = stopwords.words('russian')\n",
    "len(stopword_ru)\n",
    "\n",
    "morph = pymorphy2.MorphAnalyzer()"
   ]
  },
  {
   "cell_type": "code",
   "execution_count": 207,
   "metadata": {},
   "outputs": [
    {
     "data": {
      "text/plain": [
       "776"
      ]
     },
     "execution_count": 207,
     "metadata": {},
     "output_type": "execute_result"
    }
   ],
   "source": [
    "with open('stopwords.txt') as f:\n",
    "    additional_stopwords = [w.strip() for w in f.readlines() if w]\n",
    "stopword_ru += additional_stopwords\n",
    "len(stopword_ru)"
   ]
  },
  {
   "cell_type": "code",
   "execution_count": 208,
   "metadata": {},
   "outputs": [],
   "source": [
    "def clean_text(text):\n",
    "    '''\n",
    "    очистка текста\n",
    "    \n",
    "    на выходе очищеный текст\n",
    "    \n",
    "    '''\n",
    "    if not isinstance(text, str):\n",
    "        text = str(text)\n",
    "    \n",
    "    text = text.lower()\n",
    "    text = text.strip('\\n').strip('\\r').strip('\\t')\n",
    "    text = re.sub(\"-\\s\\r\\n\\|-\\s\\r\\n|\\r\\n\", '', str(text))\n",
    "\n",
    "    text = re.sub(\"[0-9]|[-—.,:;_%©«»?*!@#№$^•·&()]|[+=]|[[]|[]]|[/]|\", '', text)\n",
    "    text = re.sub(r\"\\r\\n\\t|\\n|\\\\s|\\r\\t|\\\\n\", ' ', text)\n",
    "    text = re.sub(r'[\\xad]|[\\s+]', ' ', text.strip())\n",
    "    \n",
    "    #tokens = list(tokenize(text))\n",
    "    #words = [_.text for _ in tokens]\n",
    "    #words = [w for w in words if w not in stopword_ru]\n",
    "    \n",
    "    #return \" \".join(words)\n",
    "    return text\n",
    "\n",
    "cache = {}\n",
    "\n",
    "def lemmatization(text):\n",
    "    '''\n",
    "    лемматизация\n",
    "        [0] если зашел тип не `str` делаем его `str`\n",
    "        [1] токенизация предложения через razdel\n",
    "        [2] проверка есть ли в начале слова '-'\n",
    "        [3] проверка токена с одного символа\n",
    "        [4] проверка есть ли данное слово в кэше\n",
    "        [5] лемматизация слова\n",
    "        [6] проверка на стоп-слова\n",
    "\n",
    "    на выходе лист отлемматизированых токенов\n",
    "    '''\n",
    "\n",
    "    # [0]\n",
    "    if not isinstance(text, str):\n",
    "        text = str(text)\n",
    "    \n",
    "    # [1]\n",
    "    tokens = list(tokenize(text))\n",
    "    words = [_.text for _ in tokens]\n",
    "\n",
    "    words_lem = []\n",
    "    for w in words:\n",
    "        if w[0] == '-': # [2]\n",
    "            w = w[1:]\n",
    "        if len(w)>1: # [3]\n",
    "            if w in cache: # [4]\n",
    "                words_lem.append(cache[w])\n",
    "            else: # [5]\n",
    "                temp_cach = cache[w] = morph.parse(w)[0].normal_form\n",
    "                words_lem.append(temp_cach)\n",
    "    \n",
    "    words_lem_without_stopwords=[i for i in words_lem if not i in stopword_ru] # [6]\n",
    "    \n",
    "    return words_lem_without_stopwords"
   ]
  },
  {
   "cell_type": "code",
   "execution_count": 209,
   "metadata": {
    "scrolled": true
   },
   "outputs": [
    {
     "name": "stdout",
     "output_type": "stream",
     "text": [
      "Wall time: 26.5 s\n"
     ]
    }
   ],
   "source": [
    "%%time\n",
    "#Запускаем очистку текста. Будет долго...\n",
    "news['title'] = news['title'].apply(lambda x: clean_text(x), 1)"
   ]
  },
  {
   "cell_type": "code",
   "execution_count": 210,
   "metadata": {},
   "outputs": [
    {
     "name": "stdout",
     "output_type": "stream",
     "text": [
      "Wall time: 3min 37s\n"
     ]
    }
   ],
   "source": [
    "%%time\n",
    "#Запускаем лемматизацию текста. Будет очень долго...\n",
    "news['title'] = news['title'].apply(lambda x: lemmatization(x), 1)"
   ]
  },
  {
   "cell_type": "markdown",
   "metadata": {},
   "source": [
    "А теперь в 3 строчки обучим нашу модель"
   ]
  },
  {
   "cell_type": "code",
   "execution_count": 211,
   "metadata": {},
   "outputs": [],
   "source": [
    "#сформируем список наших текстов, разбив еще и на пробелы\n",
    "texts = [t for t in news['title'].values]\n",
    "\n",
    "# Create a corpus from a list of texts\n",
    "common_dictionary = Dictionary(texts)\n",
    "common_corpus = [common_dictionary.doc2bow(text) for text in texts]"
   ]
  },
  {
   "cell_type": "markdown",
   "metadata": {},
   "source": [
    "Что такое common_dictionary и как он выглядит"
   ]
  },
  {
   "cell_type": "code",
   "execution_count": 212,
   "metadata": {},
   "outputs": [
    {
     "data": {
      "text/plain": [
       "'ватутин'"
      ]
     },
     "execution_count": 212,
     "metadata": {},
     "output_type": "execute_result"
    }
   ],
   "source": [
    "common_dictionary[10]"
   ]
  },
  {
   "cell_type": "markdown",
   "metadata": {},
   "source": [
    "Все просто - это словарь наших слов"
   ]
  },
  {
   "cell_type": "markdown",
   "metadata": {},
   "source": [
    "Запускаем обучение"
   ]
  },
  {
   "cell_type": "code",
   "execution_count": 213,
   "metadata": {},
   "outputs": [
    {
     "name": "stdout",
     "output_type": "stream",
     "text": [
      "Wall time: 31.2 s\n"
     ]
    }
   ],
   "source": [
    "%%time\n",
    "from gensim.models import LdaModel\n",
    "# Train the model on the corpus.\n",
    "lda = LdaModel(common_corpus, num_topics=25, id2word=common_dictionary)#, passes=10)"
   ]
  },
  {
   "cell_type": "code",
   "execution_count": 214,
   "metadata": {},
   "outputs": [],
   "source": [
    "from gensim.test.utils import datapath\n",
    "# Save model to disk.\n",
    "temp_file = datapath(\"model.lda\")\n",
    "lda.save(temp_file)\n",
    "\n",
    "# Load a potentially pretrained model from disk.\n",
    "lda = LdaModel.load(temp_file)"
   ]
  },
  {
   "cell_type": "markdown",
   "metadata": {},
   "source": [
    "Обучили модель. Теперь 2 вопроса:\n",
    "\n",
    "1. как выглядят наши темы\n",
    "2. как получить для документа вектор значений (вероятности принадлежности каждой теме)"
   ]
  },
  {
   "cell_type": "code",
   "execution_count": 215,
   "metadata": {},
   "outputs": [
    {
     "name": "stdout",
     "output_type": "stream",
     "text": [
      "['форвард', 'авангард', 'томаш', 'заборский', 'прокомментировать', 'игра', 'свой', 'команда', 'матч', 'чемпионат', 'кхл', 'против', 'атланта', 'nnnn', 'провести', 'плохой', 'матч', 'нижний', 'новгород', 'против', 'торпедо', 'настраиваться', 'первый', 'минута', 'включиться', 'работа', 'сказать', 'заборский', 'получиться', 'забросить', 'быстрый', 'гол', 'задать', 'хороший', 'темп', 'поединок', 'мочь', 'играть', 'ещё', 'хороший', 'сторона', 'пять', 'очко', 'выезд', 'девять', 'это', 'хороший']\n"
     ]
    },
    {
     "data": {
      "text/plain": [
       "[(5, 0.16150284),\n",
       " (7, 0.66939217),\n",
       " (13, 0.039554488),\n",
       " (19, 0.083690554),\n",
       " (24, 0.027913481)]"
      ]
     },
     "execution_count": 215,
     "metadata": {},
     "output_type": "execute_result"
    }
   ],
   "source": [
    "# Create a new corpus, made of previously unseen documents.\n",
    "other_texts = [t for t in news['title'].iloc[:3]]\n",
    "other_corpus = [common_dictionary.doc2bow(text) for text in other_texts]\n",
    "\n",
    "unseen_doc = other_corpus[2]\n",
    "print(other_texts[2])\n",
    "lda[unseen_doc] "
   ]
  },
  {
   "cell_type": "code",
   "execution_count": 216,
   "metadata": {},
   "outputs": [
    {
     "name": "stdout",
     "output_type": "stream",
     "text": [
      "topic_0: смерть рак снятие помещение кит городок вырабатывать\n",
      "topic_1: банк тело источник полиция штат год местный\n",
      "topic_2: диапазон рекорд музыка си мексиканский специализироваться побить\n",
      "topic_3: женщина гражданин nn мозг мужчина россиянин место\n",
      "topic_4: украина украинский гражданин продукция фронт памятник народный\n",
      "topic_5: год который nn стать первый фонд журнал\n",
      "topic_6: операция земля это день который болезнь убийство\n",
      "topic_7: эксперимент восток вирус солнце дальний употребление победа\n",
      "topic_8: год статья ребёнок который обнаружить район это\n",
      "topic_9: путин пресссекретарить президент владимир песок доклад определение\n",
      "topic_10: космос министерство школа атмосферный общество разбираться ученик\n",
      "topic_11: погибнуть бомба сооружение медик казахстан таиланд концерн\n",
      "topic_12: россия российский это газ эксперт рынок год\n",
      "topic_13: выяснить пострадать торговый препарат участок применение след\n",
      "topic_14: год млн цена это составить экономика фонд\n",
      "topic_15: ракета запуск сша км nn освобождение озеро\n",
      "topic_16: год это исследование который мочь писать всё\n",
      "topic_17: это год сша который военный весь американский\n",
      "topic_18: рейс высота индонезия поражать красноярский мак алексеев\n",
      "topic_19: это россия nn год который глава область\n",
      "topic_20: рост автомобиль свет авария год это значительно\n",
      "topic_21: который это год человек страна мочь свой\n",
      "topic_22: год который это новый станция земля свой\n",
      "topic_23: год рубль млрд млн размер рост это\n",
      "topic_24: экипаж конкурс аэропорт супруг маршрут собственность тыс\n"
     ]
    }
   ],
   "source": [
    "x=lda.show_topics(num_topics=25, num_words=7,formatted=False)\n",
    "topics_words = [(tp[0], [wd[0] for wd in tp[1]]) for tp in x]\n",
    "\n",
    "#Below Code Prints Only Words \n",
    "for topic,words in topics_words:\n",
    "    print(\"topic_{}: \".format(topic)+\" \".join(words))"
   ]
  },
  {
   "cell_type": "markdown",
   "metadata": {},
   "source": [
    "Очень неплохо - большинство тем вполне можно описать о чем они"
   ]
  },
  {
   "cell_type": "markdown",
   "metadata": {},
   "source": [
    "Давайте напишем функцию, которая будет нам возвращать векторное представление новости"
   ]
  },
  {
   "cell_type": "code",
   "execution_count": 217,
   "metadata": {},
   "outputs": [],
   "source": [
    "#text = news['title'].iloc[0]\n",
    "\n",
    "def get_lda_vector(text):\n",
    "    unseen_doc = common_dictionary.doc2bow(text)\n",
    "    lda_tuple = lda[unseen_doc]\n",
    "    not_null_topics = dict(zip([i[0] for i in lda_tuple], [i[1] for i in lda_tuple]))\n",
    "\n",
    "    output_vector = []\n",
    "    for i in range(25):\n",
    "        if i not in not_null_topics:\n",
    "            output_vector.append(0)\n",
    "        else:\n",
    "            output_vector.append(not_null_topics[i])\n",
    "    return np.array(output_vector)"
   ]
  },
  {
   "cell_type": "code",
   "execution_count": 218,
   "metadata": {},
   "outputs": [
    {
     "data": {
      "text/html": [
       "<div>\n",
       "<style scoped>\n",
       "    .dataframe tbody tr th:only-of-type {\n",
       "        vertical-align: middle;\n",
       "    }\n",
       "\n",
       "    .dataframe tbody tr th {\n",
       "        vertical-align: top;\n",
       "    }\n",
       "\n",
       "    .dataframe thead th {\n",
       "        text-align: right;\n",
       "    }\n",
       "</style>\n",
       "<table border=\"1\" class=\"dataframe\">\n",
       "  <thead>\n",
       "    <tr style=\"text-align: right;\">\n",
       "      <th></th>\n",
       "      <th>doc_id</th>\n",
       "      <th>topic_0</th>\n",
       "      <th>topic_1</th>\n",
       "      <th>topic_2</th>\n",
       "      <th>topic_3</th>\n",
       "      <th>topic_4</th>\n",
       "      <th>topic_5</th>\n",
       "      <th>topic_6</th>\n",
       "      <th>topic_7</th>\n",
       "      <th>topic_8</th>\n",
       "      <th>...</th>\n",
       "      <th>topic_15</th>\n",
       "      <th>topic_16</th>\n",
       "      <th>topic_17</th>\n",
       "      <th>topic_18</th>\n",
       "      <th>topic_19</th>\n",
       "      <th>topic_20</th>\n",
       "      <th>topic_21</th>\n",
       "      <th>topic_22</th>\n",
       "      <th>topic_23</th>\n",
       "      <th>topic_24</th>\n",
       "    </tr>\n",
       "  </thead>\n",
       "  <tbody>\n",
       "    <tr>\n",
       "      <th>0</th>\n",
       "      <td>6</td>\n",
       "      <td>0.0</td>\n",
       "      <td>0.251046</td>\n",
       "      <td>0.0</td>\n",
       "      <td>0.0</td>\n",
       "      <td>0.000000</td>\n",
       "      <td>0.034945</td>\n",
       "      <td>0.000000</td>\n",
       "      <td>0.054560</td>\n",
       "      <td>0.000000</td>\n",
       "      <td>...</td>\n",
       "      <td>0.0</td>\n",
       "      <td>0.0</td>\n",
       "      <td>0.00000</td>\n",
       "      <td>0.0</td>\n",
       "      <td>0.631207</td>\n",
       "      <td>0.0</td>\n",
       "      <td>0.000000</td>\n",
       "      <td>0.020882</td>\n",
       "      <td>0.0</td>\n",
       "      <td>0.0</td>\n",
       "    </tr>\n",
       "    <tr>\n",
       "      <th>1</th>\n",
       "      <td>4896</td>\n",
       "      <td>0.0</td>\n",
       "      <td>0.000000</td>\n",
       "      <td>0.0</td>\n",
       "      <td>0.0</td>\n",
       "      <td>0.000000</td>\n",
       "      <td>0.000000</td>\n",
       "      <td>0.000000</td>\n",
       "      <td>0.355146</td>\n",
       "      <td>0.000000</td>\n",
       "      <td>...</td>\n",
       "      <td>0.0</td>\n",
       "      <td>0.0</td>\n",
       "      <td>0.00000</td>\n",
       "      <td>0.0</td>\n",
       "      <td>0.000000</td>\n",
       "      <td>0.0</td>\n",
       "      <td>0.032166</td>\n",
       "      <td>0.150235</td>\n",
       "      <td>0.0</td>\n",
       "      <td>0.0</td>\n",
       "    </tr>\n",
       "    <tr>\n",
       "      <th>2</th>\n",
       "      <td>4897</td>\n",
       "      <td>0.0</td>\n",
       "      <td>0.000000</td>\n",
       "      <td>0.0</td>\n",
       "      <td>0.0</td>\n",
       "      <td>0.000000</td>\n",
       "      <td>0.139320</td>\n",
       "      <td>0.000000</td>\n",
       "      <td>0.678307</td>\n",
       "      <td>0.000000</td>\n",
       "      <td>...</td>\n",
       "      <td>0.0</td>\n",
       "      <td>0.0</td>\n",
       "      <td>0.00000</td>\n",
       "      <td>0.0</td>\n",
       "      <td>0.000000</td>\n",
       "      <td>0.0</td>\n",
       "      <td>0.000000</td>\n",
       "      <td>0.162674</td>\n",
       "      <td>0.0</td>\n",
       "      <td>0.0</td>\n",
       "    </tr>\n",
       "    <tr>\n",
       "      <th>3</th>\n",
       "      <td>4898</td>\n",
       "      <td>0.0</td>\n",
       "      <td>0.000000</td>\n",
       "      <td>0.0</td>\n",
       "      <td>0.0</td>\n",
       "      <td>0.018617</td>\n",
       "      <td>0.196307</td>\n",
       "      <td>0.404931</td>\n",
       "      <td>0.185272</td>\n",
       "      <td>0.000000</td>\n",
       "      <td>...</td>\n",
       "      <td>0.0</td>\n",
       "      <td>0.0</td>\n",
       "      <td>0.18539</td>\n",
       "      <td>0.0</td>\n",
       "      <td>0.000000</td>\n",
       "      <td>0.0</td>\n",
       "      <td>0.000000</td>\n",
       "      <td>0.000000</td>\n",
       "      <td>0.0</td>\n",
       "      <td>0.0</td>\n",
       "    </tr>\n",
       "    <tr>\n",
       "      <th>4</th>\n",
       "      <td>4899</td>\n",
       "      <td>0.0</td>\n",
       "      <td>0.000000</td>\n",
       "      <td>0.0</td>\n",
       "      <td>0.0</td>\n",
       "      <td>0.498673</td>\n",
       "      <td>0.256927</td>\n",
       "      <td>0.000000</td>\n",
       "      <td>0.000000</td>\n",
       "      <td>0.178625</td>\n",
       "      <td>...</td>\n",
       "      <td>0.0</td>\n",
       "      <td>0.0</td>\n",
       "      <td>0.00000</td>\n",
       "      <td>0.0</td>\n",
       "      <td>0.000000</td>\n",
       "      <td>0.0</td>\n",
       "      <td>0.000000</td>\n",
       "      <td>0.000000</td>\n",
       "      <td>0.0</td>\n",
       "      <td>0.0</td>\n",
       "    </tr>\n",
       "  </tbody>\n",
       "</table>\n",
       "<p>5 rows × 26 columns</p>\n",
       "</div>"
      ],
      "text/plain": [
       "   doc_id  topic_0   topic_1  topic_2  topic_3   topic_4   topic_5   topic_6  \\\n",
       "0       6      0.0  0.251046      0.0      0.0  0.000000  0.034945  0.000000   \n",
       "1    4896      0.0  0.000000      0.0      0.0  0.000000  0.000000  0.000000   \n",
       "2    4897      0.0  0.000000      0.0      0.0  0.000000  0.139320  0.000000   \n",
       "3    4898      0.0  0.000000      0.0      0.0  0.018617  0.196307  0.404931   \n",
       "4    4899      0.0  0.000000      0.0      0.0  0.498673  0.256927  0.000000   \n",
       "\n",
       "    topic_7   topic_8  ...  topic_15  topic_16  topic_17  topic_18  topic_19  \\\n",
       "0  0.054560  0.000000  ...       0.0       0.0   0.00000       0.0  0.631207   \n",
       "1  0.355146  0.000000  ...       0.0       0.0   0.00000       0.0  0.000000   \n",
       "2  0.678307  0.000000  ...       0.0       0.0   0.00000       0.0  0.000000   \n",
       "3  0.185272  0.000000  ...       0.0       0.0   0.18539       0.0  0.000000   \n",
       "4  0.000000  0.178625  ...       0.0       0.0   0.00000       0.0  0.000000   \n",
       "\n",
       "   topic_20  topic_21  topic_22  topic_23  topic_24  \n",
       "0       0.0  0.000000  0.020882       0.0       0.0  \n",
       "1       0.0  0.032166  0.150235       0.0       0.0  \n",
       "2       0.0  0.000000  0.162674       0.0       0.0  \n",
       "3       0.0  0.000000  0.000000       0.0       0.0  \n",
       "4       0.0  0.000000  0.000000       0.0       0.0  \n",
       "\n",
       "[5 rows x 26 columns]"
      ]
     },
     "execution_count": 218,
     "metadata": {},
     "output_type": "execute_result"
    }
   ],
   "source": [
    "topic_matrix = pd.DataFrame([get_lda_vector(text) for text in news['title'].values])\n",
    "topic_matrix.columns = ['topic_{}'.format(i) for i in range(25)]\n",
    "topic_matrix['doc_id'] = news['doc_id'].values\n",
    "topic_matrix = topic_matrix[['doc_id']+['topic_{}'.format(i) for i in range(25)]]\n",
    "topic_matrix.head(5)"
   ]
  },
  {
   "cell_type": "markdown",
   "metadata": {},
   "source": [
    "Прекрасно, мы получили вектора наших новостей! И даже умеем интерпретировать получившиеся темы.\n",
    "\n",
    "Можно двигаться далее"
   ]
  },
  {
   "cell_type": "markdown",
   "metadata": {},
   "source": [
    "### Следующий шаг - векторные представления пользователей"
   ]
  },
  {
   "cell_type": "code",
   "execution_count": 219,
   "metadata": {
    "scrolled": true
   },
   "outputs": [
    {
     "data": {
      "text/html": [
       "<div>\n",
       "<style scoped>\n",
       "    .dataframe tbody tr th:only-of-type {\n",
       "        vertical-align: middle;\n",
       "    }\n",
       "\n",
       "    .dataframe tbody tr th {\n",
       "        vertical-align: top;\n",
       "    }\n",
       "\n",
       "    .dataframe thead th {\n",
       "        text-align: right;\n",
       "    }\n",
       "</style>\n",
       "<table border=\"1\" class=\"dataframe\">\n",
       "  <thead>\n",
       "    <tr style=\"text-align: right;\">\n",
       "      <th></th>\n",
       "      <th>uid</th>\n",
       "      <th>articles</th>\n",
       "    </tr>\n",
       "  </thead>\n",
       "  <tbody>\n",
       "    <tr>\n",
       "      <th>0</th>\n",
       "      <td>u105138</td>\n",
       "      <td>[293672, 293328, 293001, 293622, 293126, 1852]</td>\n",
       "    </tr>\n",
       "    <tr>\n",
       "      <th>1</th>\n",
       "      <td>u108690</td>\n",
       "      <td>[3405, 1739, 2972, 1158, 1599, 322665]</td>\n",
       "    </tr>\n",
       "    <tr>\n",
       "      <th>2</th>\n",
       "      <td>u108339</td>\n",
       "      <td>[1845, 2009, 2356, 1424, 2939, 323389]</td>\n",
       "    </tr>\n",
       "  </tbody>\n",
       "</table>\n",
       "</div>"
      ],
      "text/plain": [
       "       uid                                        articles\n",
       "0  u105138  [293672, 293328, 293001, 293622, 293126, 1852]\n",
       "1  u108690          [3405, 1739, 2972, 1158, 1599, 322665]\n",
       "2  u108339          [1845, 2009, 2356, 1424, 2939, 323389]"
      ]
     },
     "execution_count": 219,
     "metadata": {},
     "output_type": "execute_result"
    }
   ],
   "source": [
    "users.head(3)"
   ]
  },
  {
   "cell_type": "code",
   "execution_count": 220,
   "metadata": {},
   "outputs": [],
   "source": [
    "doc_dict = dict(zip(topic_matrix['doc_id'].values, topic_matrix[['topic_{}'.format(i) for i in range(25)]].values))"
   ]
  },
  {
   "cell_type": "code",
   "execution_count": 221,
   "metadata": {},
   "outputs": [
    {
     "data": {
      "text/plain": [
       "array([0.        , 0.07265259, 0.01301424, 0.08066191, 0.        ,\n",
       "       0.29331517, 0.        , 0.        , 0.        , 0.05576244,\n",
       "       0.        , 0.        , 0.        , 0.        , 0.        ,\n",
       "       0.02161499, 0.        , 0.11832539, 0.        , 0.        ,\n",
       "       0.        , 0.19192612, 0.14301607, 0.        , 0.        ])"
      ]
     },
     "execution_count": 221,
     "metadata": {},
     "output_type": "execute_result"
    }
   ],
   "source": [
    "doc_dict[293622]"
   ]
  },
  {
   "cell_type": "code",
   "execution_count": 222,
   "metadata": {},
   "outputs": [],
   "source": [
    "user_articles_list = users['articles'].iloc[33]\n",
    "\n",
    "def get_user_embedding(user_articles_list):\n",
    "    user_articles_list = eval(user_articles_list)\n",
    "    user_vector = np.array([doc_dict[doc_id] for doc_id in user_articles_list])\n",
    "    user_vector = np.mean(user_vector, 0)\n",
    "    return user_vector"
   ]
  },
  {
   "cell_type": "code",
   "execution_count": 223,
   "metadata": {},
   "outputs": [
    {
     "data": {
      "text/plain": [
       "array([0.        , 0.00832208, 0.        , 0.02759892, 0.02123873,\n",
       "       0.025346  , 0.06235501, 0.        , 0.0195918 , 0.06422409,\n",
       "       0.00262657, 0.        , 0.08863291, 0.        , 0.00189141,\n",
       "       0.01389238, 0.02699689, 0.07408071, 0.        , 0.18641451,\n",
       "       0.00385671, 0.29496295, 0.04827173, 0.01541533, 0.        ])"
      ]
     },
     "execution_count": 223,
     "metadata": {},
     "output_type": "execute_result"
    }
   ],
   "source": [
    "get_user_embedding(user_articles_list)"
   ]
  },
  {
   "cell_type": "markdown",
   "metadata": {},
   "source": [
    "Интересовался новостями с топиками topic_3, topic_14 (что-то про политику и государство)"
   ]
  },
  {
   "cell_type": "code",
   "execution_count": 224,
   "metadata": {},
   "outputs": [
    {
     "data": {
      "text/plain": [
       "'[323329, 321961, 324743, 323186, 324632, 474690]'"
      ]
     },
     "execution_count": 224,
     "metadata": {},
     "output_type": "execute_result"
    }
   ],
   "source": [
    "users['articles'].iloc[33]"
   ]
  },
  {
   "cell_type": "code",
   "execution_count": 225,
   "metadata": {
    "scrolled": true
   },
   "outputs": [
    {
     "data": {
      "text/plain": [
       "'глава российский мид сергей лавров опровергнуть появиться сми информация якобы готовиться обмен декларация россия сша сотрудничество сфера сообщать риа новость nn читать сообщение разговаривать автор сообщение знать откуда автор источник какихлибо основание подобный род репортаж знать откуда информация появиться сказать журналист итог встреча госсекретарь сша джон керри nn позиция свой изложить декларация напринимать достаточно рамка обсе рамка совет россия нато высокий уровень продекларировать всё обеспечивать неделимость безопасность никто обеспечивать свой безопасность счёт безопасность продолжить министр слово лавров москва считать система нато создавать проблема наш безопасность поэтому декларация недостаточно мочь договариваться совместный система россия предлагать ещё начинать год президент путин посещать сша нужно вести речь очередной декларация гарантия который проверять объективный военнотехнический критерий гарантия ненаправленность система против российский ядерный потенциал подчеркнуть глава мид вторник газета коммерсантъ ссылаться дипломатический источник написать барак обама владимир путин выйти тупик обменяться политический декларация пообещать использовать свой потенциал друг против друг'"
      ]
     },
     "execution_count": 225,
     "metadata": {},
     "output_type": "execute_result"
    }
   ],
   "source": [
    "\" \".join(news[news['doc_id']==323186]['title'].iloc[0])"
   ]
  },
  {
   "cell_type": "markdown",
   "metadata": {},
   "source": [
    "Теперь получим эмбединги для всех пользователей и проверим их качество на конкретной downstream-задаче"
   ]
  },
  {
   "cell_type": "code",
   "execution_count": 226,
   "metadata": {},
   "outputs": [
    {
     "data": {
      "text/html": [
       "<div>\n",
       "<style scoped>\n",
       "    .dataframe tbody tr th:only-of-type {\n",
       "        vertical-align: middle;\n",
       "    }\n",
       "\n",
       "    .dataframe tbody tr th {\n",
       "        vertical-align: top;\n",
       "    }\n",
       "\n",
       "    .dataframe thead th {\n",
       "        text-align: right;\n",
       "    }\n",
       "</style>\n",
       "<table border=\"1\" class=\"dataframe\">\n",
       "  <thead>\n",
       "    <tr style=\"text-align: right;\">\n",
       "      <th></th>\n",
       "      <th>uid</th>\n",
       "      <th>topic_0</th>\n",
       "      <th>topic_1</th>\n",
       "      <th>topic_2</th>\n",
       "      <th>topic_3</th>\n",
       "      <th>topic_4</th>\n",
       "      <th>topic_5</th>\n",
       "      <th>topic_6</th>\n",
       "      <th>topic_7</th>\n",
       "      <th>topic_8</th>\n",
       "      <th>...</th>\n",
       "      <th>topic_15</th>\n",
       "      <th>topic_16</th>\n",
       "      <th>topic_17</th>\n",
       "      <th>topic_18</th>\n",
       "      <th>topic_19</th>\n",
       "      <th>topic_20</th>\n",
       "      <th>topic_21</th>\n",
       "      <th>topic_22</th>\n",
       "      <th>topic_23</th>\n",
       "      <th>topic_24</th>\n",
       "    </tr>\n",
       "  </thead>\n",
       "  <tbody>\n",
       "    <tr>\n",
       "      <th>0</th>\n",
       "      <td>u105138</td>\n",
       "      <td>0.000000</td>\n",
       "      <td>0.025059</td>\n",
       "      <td>0.002169</td>\n",
       "      <td>0.013444</td>\n",
       "      <td>0.037490</td>\n",
       "      <td>0.164004</td>\n",
       "      <td>0.078356</td>\n",
       "      <td>0.000000</td>\n",
       "      <td>0.067632</td>\n",
       "      <td>...</td>\n",
       "      <td>0.014420</td>\n",
       "      <td>0.016792</td>\n",
       "      <td>0.064237</td>\n",
       "      <td>0.0</td>\n",
       "      <td>0.160156</td>\n",
       "      <td>0.015867</td>\n",
       "      <td>0.163920</td>\n",
       "      <td>0.088676</td>\n",
       "      <td>0.000000</td>\n",
       "      <td>0.000000</td>\n",
       "    </tr>\n",
       "    <tr>\n",
       "      <th>1</th>\n",
       "      <td>u108690</td>\n",
       "      <td>0.008126</td>\n",
       "      <td>0.030886</td>\n",
       "      <td>0.000000</td>\n",
       "      <td>0.003161</td>\n",
       "      <td>0.037355</td>\n",
       "      <td>0.025743</td>\n",
       "      <td>0.041106</td>\n",
       "      <td>0.000000</td>\n",
       "      <td>0.065612</td>\n",
       "      <td>...</td>\n",
       "      <td>0.006771</td>\n",
       "      <td>0.026906</td>\n",
       "      <td>0.098813</td>\n",
       "      <td>0.0</td>\n",
       "      <td>0.241554</td>\n",
       "      <td>0.007158</td>\n",
       "      <td>0.232251</td>\n",
       "      <td>0.030967</td>\n",
       "      <td>0.018957</td>\n",
       "      <td>0.003729</td>\n",
       "    </tr>\n",
       "    <tr>\n",
       "      <th>2</th>\n",
       "      <td>u108339</td>\n",
       "      <td>0.000000</td>\n",
       "      <td>0.057264</td>\n",
       "      <td>0.000000</td>\n",
       "      <td>0.058471</td>\n",
       "      <td>0.014128</td>\n",
       "      <td>0.020786</td>\n",
       "      <td>0.117025</td>\n",
       "      <td>0.005495</td>\n",
       "      <td>0.069969</td>\n",
       "      <td>...</td>\n",
       "      <td>0.000000</td>\n",
       "      <td>0.035979</td>\n",
       "      <td>0.070838</td>\n",
       "      <td>0.0</td>\n",
       "      <td>0.136013</td>\n",
       "      <td>0.016471</td>\n",
       "      <td>0.240563</td>\n",
       "      <td>0.030710</td>\n",
       "      <td>0.027101</td>\n",
       "      <td>0.011152</td>\n",
       "    </tr>\n",
       "  </tbody>\n",
       "</table>\n",
       "<p>3 rows × 26 columns</p>\n",
       "</div>"
      ],
      "text/plain": [
       "       uid   topic_0   topic_1   topic_2   topic_3   topic_4   topic_5  \\\n",
       "0  u105138  0.000000  0.025059  0.002169  0.013444  0.037490  0.164004   \n",
       "1  u108690  0.008126  0.030886  0.000000  0.003161  0.037355  0.025743   \n",
       "2  u108339  0.000000  0.057264  0.000000  0.058471  0.014128  0.020786   \n",
       "\n",
       "    topic_6   topic_7   topic_8  ...  topic_15  topic_16  topic_17  topic_18  \\\n",
       "0  0.078356  0.000000  0.067632  ...  0.014420  0.016792  0.064237       0.0   \n",
       "1  0.041106  0.000000  0.065612  ...  0.006771  0.026906  0.098813       0.0   \n",
       "2  0.117025  0.005495  0.069969  ...  0.000000  0.035979  0.070838       0.0   \n",
       "\n",
       "   topic_19  topic_20  topic_21  topic_22  topic_23  topic_24  \n",
       "0  0.160156  0.015867  0.163920  0.088676  0.000000  0.000000  \n",
       "1  0.241554  0.007158  0.232251  0.030967  0.018957  0.003729  \n",
       "2  0.136013  0.016471  0.240563  0.030710  0.027101  0.011152  \n",
       "\n",
       "[3 rows x 26 columns]"
      ]
     },
     "execution_count": 226,
     "metadata": {},
     "output_type": "execute_result"
    }
   ],
   "source": [
    "user_embeddings = pd.DataFrame([i for i in users['articles'].apply(lambda x: get_user_embedding(x), 1)])\n",
    "user_embeddings.columns = ['topic_{}'.format(i) for i in range(25)]\n",
    "user_embeddings['uid'] = users['uid'].values\n",
    "user_embeddings = user_embeddings[['uid']+['topic_{}'.format(i) for i in range(25)]]\n",
    "user_embeddings.head(3)"
   ]
  },
  {
   "cell_type": "markdown",
   "metadata": {},
   "source": [
    "Датасет готов - можно попробовать обучить модель. Загрузим нашу разметку"
   ]
  },
  {
   "cell_type": "code",
   "execution_count": 227,
   "metadata": {},
   "outputs": [
    {
     "data": {
      "text/html": [
       "<div>\n",
       "<style scoped>\n",
       "    .dataframe tbody tr th:only-of-type {\n",
       "        vertical-align: middle;\n",
       "    }\n",
       "\n",
       "    .dataframe tbody tr th {\n",
       "        vertical-align: top;\n",
       "    }\n",
       "\n",
       "    .dataframe thead th {\n",
       "        text-align: right;\n",
       "    }\n",
       "</style>\n",
       "<table border=\"1\" class=\"dataframe\">\n",
       "  <thead>\n",
       "    <tr style=\"text-align: right;\">\n",
       "      <th></th>\n",
       "      <th>uid</th>\n",
       "      <th>churn</th>\n",
       "    </tr>\n",
       "  </thead>\n",
       "  <tbody>\n",
       "    <tr>\n",
       "      <th>0</th>\n",
       "      <td>u107120</td>\n",
       "      <td>0</td>\n",
       "    </tr>\n",
       "    <tr>\n",
       "      <th>1</th>\n",
       "      <td>u102277</td>\n",
       "      <td>0</td>\n",
       "    </tr>\n",
       "    <tr>\n",
       "      <th>2</th>\n",
       "      <td>u102444</td>\n",
       "      <td>0</td>\n",
       "    </tr>\n",
       "  </tbody>\n",
       "</table>\n",
       "</div>"
      ],
      "text/plain": [
       "       uid  churn\n",
       "0  u107120      0\n",
       "1  u102277      0\n",
       "2  u102444      0"
      ]
     },
     "execution_count": 227,
     "metadata": {},
     "output_type": "execute_result"
    }
   ],
   "source": [
    "target = pd.read_csv(\"users_churn.csv\")\n",
    "target.head(3)"
   ]
  },
  {
   "cell_type": "code",
   "execution_count": 228,
   "metadata": {},
   "outputs": [
    {
     "data": {
      "text/html": [
       "<div>\n",
       "<style scoped>\n",
       "    .dataframe tbody tr th:only-of-type {\n",
       "        vertical-align: middle;\n",
       "    }\n",
       "\n",
       "    .dataframe tbody tr th {\n",
       "        vertical-align: top;\n",
       "    }\n",
       "\n",
       "    .dataframe thead th {\n",
       "        text-align: right;\n",
       "    }\n",
       "</style>\n",
       "<table border=\"1\" class=\"dataframe\">\n",
       "  <thead>\n",
       "    <tr style=\"text-align: right;\">\n",
       "      <th></th>\n",
       "      <th>uid</th>\n",
       "      <th>topic_0</th>\n",
       "      <th>topic_1</th>\n",
       "      <th>topic_2</th>\n",
       "      <th>topic_3</th>\n",
       "      <th>topic_4</th>\n",
       "      <th>topic_5</th>\n",
       "      <th>topic_6</th>\n",
       "      <th>topic_7</th>\n",
       "      <th>topic_8</th>\n",
       "      <th>...</th>\n",
       "      <th>topic_16</th>\n",
       "      <th>topic_17</th>\n",
       "      <th>topic_18</th>\n",
       "      <th>topic_19</th>\n",
       "      <th>topic_20</th>\n",
       "      <th>topic_21</th>\n",
       "      <th>topic_22</th>\n",
       "      <th>topic_23</th>\n",
       "      <th>topic_24</th>\n",
       "      <th>churn</th>\n",
       "    </tr>\n",
       "  </thead>\n",
       "  <tbody>\n",
       "    <tr>\n",
       "      <th>0</th>\n",
       "      <td>u105138</td>\n",
       "      <td>0.000000</td>\n",
       "      <td>0.025059</td>\n",
       "      <td>0.002169</td>\n",
       "      <td>0.013444</td>\n",
       "      <td>0.037490</td>\n",
       "      <td>0.164004</td>\n",
       "      <td>0.078356</td>\n",
       "      <td>0.000000</td>\n",
       "      <td>0.067632</td>\n",
       "      <td>...</td>\n",
       "      <td>0.016792</td>\n",
       "      <td>0.064237</td>\n",
       "      <td>0.0</td>\n",
       "      <td>0.160156</td>\n",
       "      <td>0.015867</td>\n",
       "      <td>0.163920</td>\n",
       "      <td>0.088676</td>\n",
       "      <td>0.000000</td>\n",
       "      <td>0.000000</td>\n",
       "      <td>0</td>\n",
       "    </tr>\n",
       "    <tr>\n",
       "      <th>1</th>\n",
       "      <td>u108690</td>\n",
       "      <td>0.008126</td>\n",
       "      <td>0.030886</td>\n",
       "      <td>0.000000</td>\n",
       "      <td>0.003161</td>\n",
       "      <td>0.037355</td>\n",
       "      <td>0.025743</td>\n",
       "      <td>0.041106</td>\n",
       "      <td>0.000000</td>\n",
       "      <td>0.065612</td>\n",
       "      <td>...</td>\n",
       "      <td>0.026906</td>\n",
       "      <td>0.098813</td>\n",
       "      <td>0.0</td>\n",
       "      <td>0.241554</td>\n",
       "      <td>0.007158</td>\n",
       "      <td>0.232251</td>\n",
       "      <td>0.030967</td>\n",
       "      <td>0.018957</td>\n",
       "      <td>0.003729</td>\n",
       "      <td>1</td>\n",
       "    </tr>\n",
       "    <tr>\n",
       "      <th>2</th>\n",
       "      <td>u108339</td>\n",
       "      <td>0.000000</td>\n",
       "      <td>0.057264</td>\n",
       "      <td>0.000000</td>\n",
       "      <td>0.058471</td>\n",
       "      <td>0.014128</td>\n",
       "      <td>0.020786</td>\n",
       "      <td>0.117025</td>\n",
       "      <td>0.005495</td>\n",
       "      <td>0.069969</td>\n",
       "      <td>...</td>\n",
       "      <td>0.035979</td>\n",
       "      <td>0.070838</td>\n",
       "      <td>0.0</td>\n",
       "      <td>0.136013</td>\n",
       "      <td>0.016471</td>\n",
       "      <td>0.240563</td>\n",
       "      <td>0.030710</td>\n",
       "      <td>0.027101</td>\n",
       "      <td>0.011152</td>\n",
       "      <td>1</td>\n",
       "    </tr>\n",
       "  </tbody>\n",
       "</table>\n",
       "<p>3 rows × 27 columns</p>\n",
       "</div>"
      ],
      "text/plain": [
       "       uid   topic_0   topic_1   topic_2   topic_3   topic_4   topic_5  \\\n",
       "0  u105138  0.000000  0.025059  0.002169  0.013444  0.037490  0.164004   \n",
       "1  u108690  0.008126  0.030886  0.000000  0.003161  0.037355  0.025743   \n",
       "2  u108339  0.000000  0.057264  0.000000  0.058471  0.014128  0.020786   \n",
       "\n",
       "    topic_6   topic_7   topic_8  ...  topic_16  topic_17  topic_18  topic_19  \\\n",
       "0  0.078356  0.000000  0.067632  ...  0.016792  0.064237       0.0  0.160156   \n",
       "1  0.041106  0.000000  0.065612  ...  0.026906  0.098813       0.0  0.241554   \n",
       "2  0.117025  0.005495  0.069969  ...  0.035979  0.070838       0.0  0.136013   \n",
       "\n",
       "   topic_20  topic_21  topic_22  topic_23  topic_24  churn  \n",
       "0  0.015867  0.163920  0.088676  0.000000  0.000000      0  \n",
       "1  0.007158  0.232251  0.030967  0.018957  0.003729      1  \n",
       "2  0.016471  0.240563  0.030710  0.027101  0.011152      1  \n",
       "\n",
       "[3 rows x 27 columns]"
      ]
     },
     "execution_count": 228,
     "metadata": {},
     "output_type": "execute_result"
    }
   ],
   "source": [
    "X = pd.merge(user_embeddings, target, 'left')\n",
    "X.head(3)"
   ]
  },
  {
   "cell_type": "code",
   "execution_count": 229,
   "metadata": {},
   "outputs": [],
   "source": [
    "from sklearn.linear_model import LogisticRegression\n",
    "from sklearn.model_selection import train_test_split\n",
    "import itertools\n",
    "\n",
    "import matplotlib.pyplot as plt\n",
    "\n",
    "%matplotlib inline"
   ]
  },
  {
   "cell_type": "code",
   "execution_count": 230,
   "metadata": {},
   "outputs": [],
   "source": [
    "#разделим данные на train/test\n",
    "X_train, X_test, y_train, y_test = train_test_split(X[['topic_{}'.format(i) for i in range(25)]], \n",
    "                                                    X['churn'], random_state=0)"
   ]
  },
  {
   "cell_type": "code",
   "execution_count": 231,
   "metadata": {},
   "outputs": [
    {
     "data": {
      "text/plain": [
       "RandomForestClassifier()"
      ]
     },
     "execution_count": 231,
     "metadata": {},
     "output_type": "execute_result"
    }
   ],
   "source": [
    "logreg = RandomForestClassifier()\n",
    "#обучим \n",
    "logreg.fit(X_train, y_train)"
   ]
  },
  {
   "cell_type": "code",
   "execution_count": 232,
   "metadata": {},
   "outputs": [
    {
     "data": {
      "text/plain": [
       "array([0.1 , 0.01, 0.98, 0.01, 0.03, 0.02, 0.08, 0.  , 0.07, 0.14])"
      ]
     },
     "execution_count": 232,
     "metadata": {},
     "output_type": "execute_result"
    }
   ],
   "source": [
    "#наши прогнозы для тестовой выборки\n",
    "preds = logreg.predict_proba(X_test)[:, 1]\n",
    "preds[:10]"
   ]
  },
  {
   "cell_type": "code",
   "execution_count": 233,
   "metadata": {},
   "outputs": [],
   "source": [
    "from sklearn.metrics import f1_score, roc_auc_score, precision_score, classification_report, precision_recall_curve, confusion_matrix"
   ]
  },
  {
   "cell_type": "markdown",
   "metadata": {},
   "source": [
    "### Рассчитаем Precision, Recall, F_score"
   ]
  },
  {
   "cell_type": "code",
   "execution_count": 234,
   "metadata": {},
   "outputs": [
    {
     "name": "stdout",
     "output_type": "stream",
     "text": [
      "Best Threshold=0.410000, F-Score=0.832, Precision=0.881, Recall=0.788\n"
     ]
    }
   ],
   "source": [
    "precision, recall, thresholds = precision_recall_curve(y_test, preds)\n",
    "fscore = (2 * precision * recall) / (precision + recall)\n",
    "# locate the index of the largest f score\n",
    "ix = np.argmax(fscore)\n",
    "print('Best Threshold=%f, F-Score=%.3f, Precision=%.3f, Recall=%.3f' % (thresholds[ix], \n",
    "                                                                        fscore[ix],\n",
    "                                                                        precision[ix],\n",
    "                                                                        recall[ix]))"
   ]
  },
  {
   "cell_type": "code",
   "execution_count": 235,
   "metadata": {},
   "outputs": [],
   "source": [
    "def plot_confusion_matrix(cm, classes,\n",
    "                          normalize=False,\n",
    "                          title='Confusion matrix',\n",
    "                          cmap=plt.cm.Blues):\n",
    "    \"\"\"\n",
    "    This function prints and plots the confusion matrix.\n",
    "    Normalization can be applied by setting `normalize=True`.\n",
    "    \"\"\"\n",
    "    plt.imshow(cm, interpolation='nearest', cmap=cmap)\n",
    "    plt.title(title)\n",
    "    plt.colorbar()\n",
    "    tick_marks = np.arange(len(classes))\n",
    "    plt.xticks(tick_marks, classes, rotation=45)\n",
    "    plt.yticks(tick_marks, classes)\n",
    "\n",
    "    if normalize:\n",
    "        cm = cm.astype('float') / cm.sum(axis=1)[:, np.newaxis]\n",
    "        print(\"Normalized confusion matrix\")\n",
    "    else:\n",
    "        print('Confusion matrix, without normalization')\n",
    "\n",
    "    print(cm)\n",
    "\n",
    "    thresh = cm.max() / 2.\n",
    "    for i, j in itertools.product(range(cm.shape[0]), range(cm.shape[1])):\n",
    "        plt.text(j, i, cm[i, j],\n",
    "                 horizontalalignment=\"center\",\n",
    "                 color=\"white\" if cm[i, j] > thresh else \"black\")\n",
    "\n",
    "    plt.tight_layout()\n",
    "    plt.ylabel('True label')\n",
    "    plt.xlabel('Predicted label')"
   ]
  },
  {
   "cell_type": "code",
   "execution_count": 236,
   "metadata": {},
   "outputs": [
    {
     "name": "stdout",
     "output_type": "stream",
     "text": [
      "Confusion matrix, without normalization\n",
      "[[1730   25]\n",
      " [  55  190]]\n"
     ]
    },
    {
     "data": {
      "image/png": "[encoded data removed]",
      "text/plain": [
       "<Figure size 720x576 with 2 Axes>"
      ]
     },
     "metadata": {
      "needs_background": "light"
     },
     "output_type": "display_data"
    }
   ],
   "source": [
    "#мы уже нашли ранее \"оптимальный\" порог, когда максимизировали f_score\n",
    "font = {'size' : 15}\n",
    "\n",
    "plt.rc('font', **font)\n",
    "\n",
    "cnf_matrix = confusion_matrix(y_test, preds>thresholds[ix])\n",
    "plt.figure(figsize=(10, 8))\n",
    "plot_confusion_matrix(cnf_matrix, classes=['Non-Churn', 'churn'],\n",
    "                      title='Confusion matrix')\n",
    "plt.savefig(\"conf_matrix.png\")\n",
    "plt.show()"
   ]
  },
  {
   "cell_type": "code",
   "execution_count": 237,
   "metadata": {},
   "outputs": [
    {
     "data": {
      "text/plain": [
       "0.9779836036978893"
      ]
     },
     "execution_count": 237,
     "metadata": {},
     "output_type": "execute_result"
    }
   ],
   "source": [
    "roc_auc_score(y_test, preds)"
   ]
  },
  {
   "cell_type": "markdown",
   "metadata": {},
   "source": [
    "В целом мы видим, что получившиеся векторные представления содержат какой-то сигнал и позволяют решать нашу прикладную задачу. "
   ]
  },
  {
   "cell_type": "markdown",
   "metadata": {},
   "source": [
    "### Домашнее задание"
   ]
  },
  {
   "cell_type": "markdown",
   "metadata": {},
   "source": [
    "2. Модифицировать код функции get_user_embedding таким образом, чтобы считалось не среднее (как в примере np.mean), а медиана. Применить такое преобразование к данным, обучить модель прогнозирования оттока и посчитать метрики качества и сохранить их: roc auc, precision/recall/f_score (для 3 последних - подобрать оптимальный порог с помощью precision_recall_curve, как это делалось на уроке)"
   ]
  },
  {
   "cell_type": "code",
   "execution_count": 238,
   "metadata": {},
   "outputs": [],
   "source": [
    "def get_user_embedding_2(user_articles_list, doc_dict):\n",
    "    user_articles_list = eval(user_articles_list)\n",
    "    user_vector = np.array([doc_dict[doc_id] for doc_id in user_articles_list])\n",
    "    # print(user_vector)\n",
    "    user_vector = np.median(user_vector, 0)  # медиана\n",
    "    return user_vector"
   ]
  },
  {
   "cell_type": "code",
   "execution_count": 239,
   "metadata": {},
   "outputs": [
    {
     "name": "stdout",
     "output_type": "stream",
     "text": [
      "[323329, 321961, 324743, 323186, 324632, 474690]\n",
      "[0.         0.00832208 0.         0.02759892 0.02123873 0.025346\n",
      " 0.06235501 0.         0.0195918  0.06422409 0.00262657 0.\n",
      " 0.08863291 0.         0.00189141 0.01389238 0.02699689 0.07408071\n",
      " 0.         0.18641451 0.00385671 0.29496295 0.04827173 0.01541533\n",
      " 0.        ]\n",
      "[0.         0.         0.         0.         0.01111626 0.\n",
      " 0.         0.         0.         0.0074925  0.         0.\n",
      " 0.08158799 0.         0.         0.01232722 0.         0.06738105\n",
      " 0.         0.20633574 0.         0.37910175 0.00911657 0.\n",
      " 0.        ]\n"
     ]
    }
   ],
   "source": [
    "user_articles_list #= users['articles'].iloc[33]\n",
    "\n",
    "uv_1 = get_user_embedding(user_articles_list)\n",
    "uv_2 = get_user_embedding_2(user_articles_list, doc_dict)\n",
    "\n",
    "print(user_articles_list)\n",
    "print(uv_1)\n",
    "print(uv_2)"
   ]
  },
  {
   "cell_type": "code",
   "execution_count": 240,
   "metadata": {},
   "outputs": [],
   "source": [
    "N_topic = 25"
   ]
  },
  {
   "cell_type": "code",
   "execution_count": 241,
   "metadata": {
    "scrolled": true
   },
   "outputs": [
    {
     "name": "stdout",
     "output_type": "stream",
     "text": [
      "Wall time: 708 ms\n"
     ]
    },
    {
     "data": {
      "text/html": [
       "<div>\n",
       "<style scoped>\n",
       "    .dataframe tbody tr th:only-of-type {\n",
       "        vertical-align: middle;\n",
       "    }\n",
       "\n",
       "    .dataframe tbody tr th {\n",
       "        vertical-align: top;\n",
       "    }\n",
       "\n",
       "    .dataframe thead th {\n",
       "        text-align: right;\n",
       "    }\n",
       "</style>\n",
       "<table border=\"1\" class=\"dataframe\">\n",
       "  <thead>\n",
       "    <tr style=\"text-align: right;\">\n",
       "      <th></th>\n",
       "      <th>uid</th>\n",
       "      <th>topic_0</th>\n",
       "      <th>topic_1</th>\n",
       "      <th>topic_2</th>\n",
       "      <th>topic_3</th>\n",
       "      <th>topic_4</th>\n",
       "      <th>topic_5</th>\n",
       "      <th>topic_6</th>\n",
       "      <th>topic_7</th>\n",
       "      <th>topic_8</th>\n",
       "      <th>...</th>\n",
       "      <th>topic_15</th>\n",
       "      <th>topic_16</th>\n",
       "      <th>topic_17</th>\n",
       "      <th>topic_18</th>\n",
       "      <th>topic_19</th>\n",
       "      <th>topic_20</th>\n",
       "      <th>topic_21</th>\n",
       "      <th>topic_22</th>\n",
       "      <th>topic_23</th>\n",
       "      <th>topic_24</th>\n",
       "    </tr>\n",
       "  </thead>\n",
       "  <tbody>\n",
       "    <tr>\n",
       "      <th>0</th>\n",
       "      <td>u105138</td>\n",
       "      <td>0.0</td>\n",
       "      <td>0.018710</td>\n",
       "      <td>0.0</td>\n",
       "      <td>0.00000</td>\n",
       "      <td>0.006881</td>\n",
       "      <td>0.198403</td>\n",
       "      <td>0.064643</td>\n",
       "      <td>0.0</td>\n",
       "      <td>0.036358</td>\n",
       "      <td>...</td>\n",
       "      <td>0.00000</td>\n",
       "      <td>0.000000</td>\n",
       "      <td>0.053730</td>\n",
       "      <td>0.0</td>\n",
       "      <td>0.126939</td>\n",
       "      <td>0.0000</td>\n",
       "      <td>0.183640</td>\n",
       "      <td>0.100168</td>\n",
       "      <td>0.000000</td>\n",
       "      <td>0.0</td>\n",
       "    </tr>\n",
       "    <tr>\n",
       "      <th>1</th>\n",
       "      <td>u108690</td>\n",
       "      <td>0.0</td>\n",
       "      <td>0.000000</td>\n",
       "      <td>0.0</td>\n",
       "      <td>0.00000</td>\n",
       "      <td>0.036154</td>\n",
       "      <td>0.016343</td>\n",
       "      <td>0.034413</td>\n",
       "      <td>0.0</td>\n",
       "      <td>0.043840</td>\n",
       "      <td>...</td>\n",
       "      <td>0.00515</td>\n",
       "      <td>0.000000</td>\n",
       "      <td>0.078177</td>\n",
       "      <td>0.0</td>\n",
       "      <td>0.243227</td>\n",
       "      <td>0.0000</td>\n",
       "      <td>0.229737</td>\n",
       "      <td>0.020937</td>\n",
       "      <td>0.000000</td>\n",
       "      <td>0.0</td>\n",
       "    </tr>\n",
       "    <tr>\n",
       "      <th>2</th>\n",
       "      <td>u108339</td>\n",
       "      <td>0.0</td>\n",
       "      <td>0.066207</td>\n",
       "      <td>0.0</td>\n",
       "      <td>0.03247</td>\n",
       "      <td>0.000000</td>\n",
       "      <td>0.010339</td>\n",
       "      <td>0.129824</td>\n",
       "      <td>0.0</td>\n",
       "      <td>0.064978</td>\n",
       "      <td>...</td>\n",
       "      <td>0.00000</td>\n",
       "      <td>0.030321</td>\n",
       "      <td>0.047381</td>\n",
       "      <td>0.0</td>\n",
       "      <td>0.117226</td>\n",
       "      <td>0.0074</td>\n",
       "      <td>0.249355</td>\n",
       "      <td>0.019096</td>\n",
       "      <td>0.005159</td>\n",
       "      <td>0.0</td>\n",
       "    </tr>\n",
       "  </tbody>\n",
       "</table>\n",
       "<p>3 rows × 26 columns</p>\n",
       "</div>"
      ],
      "text/plain": [
       "       uid  topic_0   topic_1  topic_2  topic_3   topic_4   topic_5   topic_6  \\\n",
       "0  u105138      0.0  0.018710      0.0  0.00000  0.006881  0.198403  0.064643   \n",
       "1  u108690      0.0  0.000000      0.0  0.00000  0.036154  0.016343  0.034413   \n",
       "2  u108339      0.0  0.066207      0.0  0.03247  0.000000  0.010339  0.129824   \n",
       "\n",
       "   topic_7   topic_8  ...  topic_15  topic_16  topic_17  topic_18  topic_19  \\\n",
       "0      0.0  0.036358  ...   0.00000  0.000000  0.053730       0.0  0.126939   \n",
       "1      0.0  0.043840  ...   0.00515  0.000000  0.078177       0.0  0.243227   \n",
       "2      0.0  0.064978  ...   0.00000  0.030321  0.047381       0.0  0.117226   \n",
       "\n",
       "   topic_20  topic_21  topic_22  topic_23  topic_24  \n",
       "0    0.0000  0.183640  0.100168  0.000000       0.0  \n",
       "1    0.0000  0.229737  0.020937  0.000000       0.0  \n",
       "2    0.0074  0.249355  0.019096  0.005159       0.0  \n",
       "\n",
       "[3 rows x 26 columns]"
      ]
     },
     "execution_count": 241,
     "metadata": {},
     "output_type": "execute_result"
    }
   ],
   "source": [
    "%%time\n",
    "user_embeddings_2 = pd.DataFrame([i for i in users['articles'].apply(lambda x: get_user_embedding_2(x, doc_dict))])\n",
    "user_embeddings_2.columns = [f'topic_{i}' for i in range(N_topic)]\n",
    "user_embeddings_2['uid'] = users['uid'].values\n",
    "user_embeddings_2 = user_embeddings_2[['uid']+[f'topic_{i}' for i in range(N_topic)]]\n",
    "user_embeddings_2.head(3)"
   ]
  },
  {
   "cell_type": "code",
   "execution_count": 242,
   "metadata": {},
   "outputs": [
    {
     "data": {
      "text/html": [
       "<div>\n",
       "<style scoped>\n",
       "    .dataframe tbody tr th:only-of-type {\n",
       "        vertical-align: middle;\n",
       "    }\n",
       "\n",
       "    .dataframe tbody tr th {\n",
       "        vertical-align: top;\n",
       "    }\n",
       "\n",
       "    .dataframe thead th {\n",
       "        text-align: right;\n",
       "    }\n",
       "</style>\n",
       "<table border=\"1\" class=\"dataframe\">\n",
       "  <thead>\n",
       "    <tr style=\"text-align: right;\">\n",
       "      <th></th>\n",
       "      <th>uid</th>\n",
       "      <th>topic_0</th>\n",
       "      <th>topic_1</th>\n",
       "      <th>topic_2</th>\n",
       "      <th>topic_3</th>\n",
       "      <th>topic_4</th>\n",
       "      <th>topic_5</th>\n",
       "      <th>topic_6</th>\n",
       "      <th>topic_7</th>\n",
       "      <th>topic_8</th>\n",
       "      <th>...</th>\n",
       "      <th>topic_16</th>\n",
       "      <th>topic_17</th>\n",
       "      <th>topic_18</th>\n",
       "      <th>topic_19</th>\n",
       "      <th>topic_20</th>\n",
       "      <th>topic_21</th>\n",
       "      <th>topic_22</th>\n",
       "      <th>topic_23</th>\n",
       "      <th>topic_24</th>\n",
       "      <th>churn</th>\n",
       "    </tr>\n",
       "  </thead>\n",
       "  <tbody>\n",
       "    <tr>\n",
       "      <th>0</th>\n",
       "      <td>u105138</td>\n",
       "      <td>0.0</td>\n",
       "      <td>0.018710</td>\n",
       "      <td>0.0</td>\n",
       "      <td>0.00000</td>\n",
       "      <td>0.006881</td>\n",
       "      <td>0.198403</td>\n",
       "      <td>0.064643</td>\n",
       "      <td>0.0</td>\n",
       "      <td>0.036358</td>\n",
       "      <td>...</td>\n",
       "      <td>0.000000</td>\n",
       "      <td>0.053730</td>\n",
       "      <td>0.0</td>\n",
       "      <td>0.126939</td>\n",
       "      <td>0.0000</td>\n",
       "      <td>0.183640</td>\n",
       "      <td>0.100168</td>\n",
       "      <td>0.000000</td>\n",
       "      <td>0.0</td>\n",
       "      <td>0</td>\n",
       "    </tr>\n",
       "    <tr>\n",
       "      <th>1</th>\n",
       "      <td>u108690</td>\n",
       "      <td>0.0</td>\n",
       "      <td>0.000000</td>\n",
       "      <td>0.0</td>\n",
       "      <td>0.00000</td>\n",
       "      <td>0.036154</td>\n",
       "      <td>0.016343</td>\n",
       "      <td>0.034413</td>\n",
       "      <td>0.0</td>\n",
       "      <td>0.043840</td>\n",
       "      <td>...</td>\n",
       "      <td>0.000000</td>\n",
       "      <td>0.078177</td>\n",
       "      <td>0.0</td>\n",
       "      <td>0.243227</td>\n",
       "      <td>0.0000</td>\n",
       "      <td>0.229737</td>\n",
       "      <td>0.020937</td>\n",
       "      <td>0.000000</td>\n",
       "      <td>0.0</td>\n",
       "      <td>1</td>\n",
       "    </tr>\n",
       "    <tr>\n",
       "      <th>2</th>\n",
       "      <td>u108339</td>\n",
       "      <td>0.0</td>\n",
       "      <td>0.066207</td>\n",
       "      <td>0.0</td>\n",
       "      <td>0.03247</td>\n",
       "      <td>0.000000</td>\n",
       "      <td>0.010339</td>\n",
       "      <td>0.129824</td>\n",
       "      <td>0.0</td>\n",
       "      <td>0.064978</td>\n",
       "      <td>...</td>\n",
       "      <td>0.030321</td>\n",
       "      <td>0.047381</td>\n",
       "      <td>0.0</td>\n",
       "      <td>0.117226</td>\n",
       "      <td>0.0074</td>\n",
       "      <td>0.249355</td>\n",
       "      <td>0.019096</td>\n",
       "      <td>0.005159</td>\n",
       "      <td>0.0</td>\n",
       "      <td>1</td>\n",
       "    </tr>\n",
       "  </tbody>\n",
       "</table>\n",
       "<p>3 rows × 27 columns</p>\n",
       "</div>"
      ],
      "text/plain": [
       "       uid  topic_0   topic_1  topic_2  topic_3   topic_4   topic_5   topic_6  \\\n",
       "0  u105138      0.0  0.018710      0.0  0.00000  0.006881  0.198403  0.064643   \n",
       "1  u108690      0.0  0.000000      0.0  0.00000  0.036154  0.016343  0.034413   \n",
       "2  u108339      0.0  0.066207      0.0  0.03247  0.000000  0.010339  0.129824   \n",
       "\n",
       "   topic_7   topic_8  ...  topic_16  topic_17  topic_18  topic_19  topic_20  \\\n",
       "0      0.0  0.036358  ...  0.000000  0.053730       0.0  0.126939    0.0000   \n",
       "1      0.0  0.043840  ...  0.000000  0.078177       0.0  0.243227    0.0000   \n",
       "2      0.0  0.064978  ...  0.030321  0.047381       0.0  0.117226    0.0074   \n",
       "\n",
       "   topic_21  topic_22  topic_23  topic_24  churn  \n",
       "0  0.183640  0.100168  0.000000       0.0      0  \n",
       "1  0.229737  0.020937  0.000000       0.0      1  \n",
       "2  0.249355  0.019096  0.005159       0.0      1  \n",
       "\n",
       "[3 rows x 27 columns]"
      ]
     },
     "execution_count": 242,
     "metadata": {},
     "output_type": "execute_result"
    }
   ],
   "source": [
    "X_2 = pd.merge(user_embeddings_2, target, 'left')\n",
    "X_2.head(3)"
   ]
  },
  {
   "cell_type": "code",
   "execution_count": 243,
   "metadata": {},
   "outputs": [],
   "source": [
    "X_2_train, X_2_test, y_2_train, y_2_test = train_test_split(X_2[[f'topic_{i}' for i in range(N_topic)]], \n",
    "                                                    X_2['churn'], random_state=0)"
   ]
  },
  {
   "cell_type": "code",
   "execution_count": 244,
   "metadata": {},
   "outputs": [
    {
     "data": {
      "text/plain": [
       "array([0.19, 0.  , 0.98, 0.1 , 0.  , 0.  , 0.04, 0.  , 0.15, 0.05])"
      ]
     },
     "execution_count": 244,
     "metadata": {},
     "output_type": "execute_result"
    }
   ],
   "source": [
    "logreg_2 = RandomForestClassifier()\n",
    "logreg_2.fit(X_2_train, y_2_train)\n",
    "preds_2 = logreg_2.predict_proba(X_2_test)[:, 1]\n",
    "preds_2[:10]"
   ]
  },
  {
   "cell_type": "code",
   "execution_count": 245,
   "metadata": {},
   "outputs": [
    {
     "data": {
      "image/png": "[encoded data removed]",
      "text/plain": [
       "<Figure size 720x432 with 1 Axes>"
      ]
     },
     "metadata": {
      "needs_background": "light"
     },
     "output_type": "display_data"
    }
   ],
   "source": [
    "n = 50\n",
    "plt.figure(figsize=(10, 6))\n",
    "plt.plot(preds_2[:n], label='predict')\n",
    "plt.plot(y_2_test.values[:n], label='true')\n",
    "plt.title('ответ модели')\n",
    "plt.xlabel('№ примера')\n",
    "plt.ylabel('выход')\n",
    "plt.legend()\n",
    "plt.grid('On')\n",
    "plt.show()"
   ]
  },
  {
   "cell_type": "code",
   "execution_count": 246,
   "metadata": {},
   "outputs": [
    {
     "name": "stdout",
     "output_type": "stream",
     "text": [
      "Best Threshold=0.31, F-Score=0.948, Precision=0.923, Recall=0.976\n"
     ]
    }
   ],
   "source": [
    "precision_2, recall_2, thresholds_2 = precision_recall_curve(y_2_test, preds_2)\n",
    "# print(precision_2 + recall_2)\n",
    "fscore_2 = (2 * precision_2 * recall_2) / (precision_2 + recall_2)\n",
    "# locate the index of the largest f score\n",
    "ix_2 = np.argmax(fscore_2)\n",
    "print(f'Best Threshold={thresholds_2[ix_2]}, F-Score={fscore_2[ix_2]:.3f}, Precision={precision_2[ix_2]:.3f}, Recall={recall_2[ix_2]:.3f}')     "
   ]
  },
  {
   "cell_type": "code",
   "execution_count": 247,
   "metadata": {
    "scrolled": true
   },
   "outputs": [
    {
     "name": "stdout",
     "output_type": "stream",
     "text": [
      "Confusion matrix, without normalization\n",
      "[[1735   20]\n",
      " [   7  238]]\n"
     ]
    },
    {
     "data": {
      "image/png": "[encoded data removed]",
      "text/plain": [
       "<Figure size 720x576 with 2 Axes>"
      ]
     },
     "metadata": {
      "needs_background": "light"
     },
     "output_type": "display_data"
    }
   ],
   "source": [
    "font = {'size' : 15}\n",
    "\n",
    "plt.rc('font', **font)\n",
    "\n",
    "cnf_matrix_2 = confusion_matrix(y_2_test, preds_2 > thresholds_2[ix_2])\n",
    "\n",
    "plt.figure(figsize=(10, 8))\n",
    "plot_confusion_matrix(cnf_matrix_2, classes=['Non-Churn', 'churn'],\n",
    "                      title='Confusion matrix')\n",
    "plt.savefig(\"conf_matrix.png\")\n",
    "plt.show()"
   ]
  },
  {
   "cell_type": "code",
   "execution_count": 248,
   "metadata": {},
   "outputs": [
    {
     "data": {
      "text/plain": [
       "0.9968230711087853"
      ]
     },
     "execution_count": 248,
     "metadata": {},
     "output_type": "execute_result"
    }
   ],
   "source": [
    "roc_auc_2 = roc_auc_score(y_2_test, preds_2)\n",
    "roc_auc_2"
   ]
  },
  {
   "cell_type": "markdown",
   "metadata": {},
   "source": [
    "3. Повторить п.2, но используя уже не медиану, а max"
   ]
  },
  {
   "cell_type": "code",
   "execution_count": 249,
   "metadata": {},
   "outputs": [],
   "source": [
    "def get_user_embedding_3(user_articles_list, doc_dict):\n",
    "    user_articles_list = eval(user_articles_list)\n",
    "    user_vector = np.array([doc_dict[doc_id] for doc_id in user_articles_list])\n",
    "    # print(user_vector)\n",
    "    user_vector = np.max(user_vector, 0)  # медиана\n",
    "    return user_vector"
   ]
  },
  {
   "cell_type": "code",
   "execution_count": 250,
   "metadata": {
    "scrolled": true
   },
   "outputs": [
    {
     "name": "stdout",
     "output_type": "stream",
     "text": [
      "[323329, 321961, 324743, 323186, 324632, 474690]\n",
      "[0.         0.00832208 0.         0.02759892 0.02123873 0.025346\n",
      " 0.06235501 0.         0.0195918  0.06422409 0.00262657 0.\n",
      " 0.08863291 0.         0.00189141 0.01389238 0.02699689 0.07408071\n",
      " 0.         0.18641451 0.00385671 0.29496295 0.04827173 0.01541533\n",
      " 0.        ]\n",
      "[0.         0.         0.         0.         0.01111626 0.\n",
      " 0.         0.         0.         0.0074925  0.         0.\n",
      " 0.08158799 0.         0.         0.01232722 0.         0.06738105\n",
      " 0.         0.20633574 0.         0.37910175 0.00911657 0.\n",
      " 0.        ]\n",
      "[0.         0.0499325  0.         0.08672491 0.07061047 0.1299919\n",
      " 0.37413004 0.         0.06284682 0.34195167 0.01575939 0.\n",
      " 0.19370544 0.         0.01134848 0.03163147 0.1258236  0.15506287\n",
      " 0.         0.32558328 0.02314026 0.52765322 0.22695649 0.09249201\n",
      " 0.        ]\n"
     ]
    }
   ],
   "source": [
    "user_articles_list #= users['articles'].iloc[33]\n",
    "\n",
    "uv_1 = get_user_embedding(user_articles_list)\n",
    "uv_2 = get_user_embedding_2(user_articles_list, doc_dict)\n",
    "uv_3 = get_user_embedding_3(user_articles_list, doc_dict)\n",
    "\n",
    "print(user_articles_list)\n",
    "print(uv_1)\n",
    "print(uv_2)\n",
    "print(uv_3)"
   ]
  },
  {
   "cell_type": "code",
   "execution_count": 251,
   "metadata": {
    "scrolled": true
   },
   "outputs": [
    {
     "name": "stdout",
     "output_type": "stream",
     "text": [
      "Wall time: 298 ms\n"
     ]
    },
    {
     "data": {
      "text/html": [
       "<div>\n",
       "<style scoped>\n",
       "    .dataframe tbody tr th:only-of-type {\n",
       "        vertical-align: middle;\n",
       "    }\n",
       "\n",
       "    .dataframe tbody tr th {\n",
       "        vertical-align: top;\n",
       "    }\n",
       "\n",
       "    .dataframe thead th {\n",
       "        text-align: right;\n",
       "    }\n",
       "</style>\n",
       "<table border=\"1\" class=\"dataframe\">\n",
       "  <thead>\n",
       "    <tr style=\"text-align: right;\">\n",
       "      <th></th>\n",
       "      <th>uid</th>\n",
       "      <th>topic_0</th>\n",
       "      <th>topic_1</th>\n",
       "      <th>topic_2</th>\n",
       "      <th>topic_3</th>\n",
       "      <th>topic_4</th>\n",
       "      <th>topic_5</th>\n",
       "      <th>topic_6</th>\n",
       "      <th>topic_7</th>\n",
       "      <th>topic_8</th>\n",
       "      <th>...</th>\n",
       "      <th>topic_15</th>\n",
       "      <th>topic_16</th>\n",
       "      <th>topic_17</th>\n",
       "      <th>topic_18</th>\n",
       "      <th>topic_19</th>\n",
       "      <th>topic_20</th>\n",
       "      <th>topic_21</th>\n",
       "      <th>topic_22</th>\n",
       "      <th>topic_23</th>\n",
       "      <th>topic_24</th>\n",
       "    </tr>\n",
       "  </thead>\n",
       "  <tbody>\n",
       "    <tr>\n",
       "      <th>0</th>\n",
       "      <td>u105138</td>\n",
       "      <td>0.000000</td>\n",
       "      <td>0.072653</td>\n",
       "      <td>0.013014</td>\n",
       "      <td>0.080662</td>\n",
       "      <td>0.128934</td>\n",
       "      <td>0.29390</td>\n",
       "      <td>0.194611</td>\n",
       "      <td>0.000000</td>\n",
       "      <td>0.224571</td>\n",
       "      <td>...</td>\n",
       "      <td>0.064904</td>\n",
       "      <td>0.070406</td>\n",
       "      <td>0.159638</td>\n",
       "      <td>0.0</td>\n",
       "      <td>0.540374</td>\n",
       "      <td>0.079137</td>\n",
       "      <td>0.347956</td>\n",
       "      <td>0.173797</td>\n",
       "      <td>0.000000</td>\n",
       "      <td>0.000000</td>\n",
       "    </tr>\n",
       "    <tr>\n",
       "      <th>1</th>\n",
       "      <td>u108690</td>\n",
       "      <td>0.038184</td>\n",
       "      <td>0.146408</td>\n",
       "      <td>0.000000</td>\n",
       "      <td>0.018965</td>\n",
       "      <td>0.094901</td>\n",
       "      <td>0.08329</td>\n",
       "      <td>0.103513</td>\n",
       "      <td>0.000000</td>\n",
       "      <td>0.143822</td>\n",
       "      <td>...</td>\n",
       "      <td>0.018271</td>\n",
       "      <td>0.138395</td>\n",
       "      <td>0.280581</td>\n",
       "      <td>0.0</td>\n",
       "      <td>0.487212</td>\n",
       "      <td>0.042946</td>\n",
       "      <td>0.374193</td>\n",
       "      <td>0.116888</td>\n",
       "      <td>0.103262</td>\n",
       "      <td>0.012294</td>\n",
       "    </tr>\n",
       "    <tr>\n",
       "      <th>2</th>\n",
       "      <td>u108339</td>\n",
       "      <td>0.000000</td>\n",
       "      <td>0.095372</td>\n",
       "      <td>0.000000</td>\n",
       "      <td>0.224056</td>\n",
       "      <td>0.084765</td>\n",
       "      <td>0.05562</td>\n",
       "      <td>0.158826</td>\n",
       "      <td>0.032968</td>\n",
       "      <td>0.183915</td>\n",
       "      <td>...</td>\n",
       "      <td>0.000000</td>\n",
       "      <td>0.088956</td>\n",
       "      <td>0.176221</td>\n",
       "      <td>0.0</td>\n",
       "      <td>0.269828</td>\n",
       "      <td>0.062986</td>\n",
       "      <td>0.395020</td>\n",
       "      <td>0.081175</td>\n",
       "      <td>0.103223</td>\n",
       "      <td>0.054481</td>\n",
       "    </tr>\n",
       "  </tbody>\n",
       "</table>\n",
       "<p>3 rows × 26 columns</p>\n",
       "</div>"
      ],
      "text/plain": [
       "       uid   topic_0   topic_1   topic_2   topic_3   topic_4  topic_5  \\\n",
       "0  u105138  0.000000  0.072653  0.013014  0.080662  0.128934  0.29390   \n",
       "1  u108690  0.038184  0.146408  0.000000  0.018965  0.094901  0.08329   \n",
       "2  u108339  0.000000  0.095372  0.000000  0.224056  0.084765  0.05562   \n",
       "\n",
       "    topic_6   topic_7   topic_8  ...  topic_15  topic_16  topic_17  topic_18  \\\n",
       "0  0.194611  0.000000  0.224571  ...  0.064904  0.070406  0.159638       0.0   \n",
       "1  0.103513  0.000000  0.143822  ...  0.018271  0.138395  0.280581       0.0   \n",
       "2  0.158826  0.032968  0.183915  ...  0.000000  0.088956  0.176221       0.0   \n",
       "\n",
       "   topic_19  topic_20  topic_21  topic_22  topic_23  topic_24  \n",
       "0  0.540374  0.079137  0.347956  0.173797  0.000000  0.000000  \n",
       "1  0.487212  0.042946  0.374193  0.116888  0.103262  0.012294  \n",
       "2  0.269828  0.062986  0.395020  0.081175  0.103223  0.054481  \n",
       "\n",
       "[3 rows x 26 columns]"
      ]
     },
     "execution_count": 251,
     "metadata": {},
     "output_type": "execute_result"
    }
   ],
   "source": [
    "%%time\n",
    "user_embeddings_3 = pd.DataFrame([i for i in users['articles'].apply(lambda x: get_user_embedding_3(x, doc_dict))])\n",
    "user_embeddings_3.columns = [f'topic_{i}' for i in range(N_topic)]\n",
    "user_embeddings_3['uid'] = users['uid'].values\n",
    "user_embeddings_3 = user_embeddings_3[['uid']+[f'topic_{i}' for i in range(N_topic)]]\n",
    "user_embeddings_3.head(3)"
   ]
  },
  {
   "cell_type": "code",
   "execution_count": 252,
   "metadata": {},
   "outputs": [
    {
     "data": {
      "text/html": [
       "<div>\n",
       "<style scoped>\n",
       "    .dataframe tbody tr th:only-of-type {\n",
       "        vertical-align: middle;\n",
       "    }\n",
       "\n",
       "    .dataframe tbody tr th {\n",
       "        vertical-align: top;\n",
       "    }\n",
       "\n",
       "    .dataframe thead th {\n",
       "        text-align: right;\n",
       "    }\n",
       "</style>\n",
       "<table border=\"1\" class=\"dataframe\">\n",
       "  <thead>\n",
       "    <tr style=\"text-align: right;\">\n",
       "      <th></th>\n",
       "      <th>uid</th>\n",
       "      <th>topic_0</th>\n",
       "      <th>topic_1</th>\n",
       "      <th>topic_2</th>\n",
       "      <th>topic_3</th>\n",
       "      <th>topic_4</th>\n",
       "      <th>topic_5</th>\n",
       "      <th>topic_6</th>\n",
       "      <th>topic_7</th>\n",
       "      <th>topic_8</th>\n",
       "      <th>...</th>\n",
       "      <th>topic_15</th>\n",
       "      <th>topic_16</th>\n",
       "      <th>topic_17</th>\n",
       "      <th>topic_18</th>\n",
       "      <th>topic_19</th>\n",
       "      <th>topic_20</th>\n",
       "      <th>topic_21</th>\n",
       "      <th>topic_22</th>\n",
       "      <th>topic_23</th>\n",
       "      <th>topic_24</th>\n",
       "    </tr>\n",
       "  </thead>\n",
       "  <tbody>\n",
       "    <tr>\n",
       "      <th>0</th>\n",
       "      <td>u105138</td>\n",
       "      <td>0.000000</td>\n",
       "      <td>0.072653</td>\n",
       "      <td>0.013014</td>\n",
       "      <td>0.080662</td>\n",
       "      <td>0.128934</td>\n",
       "      <td>0.293900</td>\n",
       "      <td>0.194611</td>\n",
       "      <td>0.000000</td>\n",
       "      <td>0.224571</td>\n",
       "      <td>...</td>\n",
       "      <td>0.064904</td>\n",
       "      <td>0.070406</td>\n",
       "      <td>0.159638</td>\n",
       "      <td>0.000000</td>\n",
       "      <td>0.540374</td>\n",
       "      <td>0.079137</td>\n",
       "      <td>0.347956</td>\n",
       "      <td>0.173797</td>\n",
       "      <td>0.000000</td>\n",
       "      <td>0.000000</td>\n",
       "    </tr>\n",
       "    <tr>\n",
       "      <th>1</th>\n",
       "      <td>u108690</td>\n",
       "      <td>0.038184</td>\n",
       "      <td>0.146408</td>\n",
       "      <td>0.000000</td>\n",
       "      <td>0.018965</td>\n",
       "      <td>0.094901</td>\n",
       "      <td>0.083290</td>\n",
       "      <td>0.103513</td>\n",
       "      <td>0.000000</td>\n",
       "      <td>0.143822</td>\n",
       "      <td>...</td>\n",
       "      <td>0.018271</td>\n",
       "      <td>0.138395</td>\n",
       "      <td>0.280581</td>\n",
       "      <td>0.000000</td>\n",
       "      <td>0.487212</td>\n",
       "      <td>0.042946</td>\n",
       "      <td>0.374193</td>\n",
       "      <td>0.116888</td>\n",
       "      <td>0.103262</td>\n",
       "      <td>0.012294</td>\n",
       "    </tr>\n",
       "    <tr>\n",
       "      <th>2</th>\n",
       "      <td>u108339</td>\n",
       "      <td>0.000000</td>\n",
       "      <td>0.095372</td>\n",
       "      <td>0.000000</td>\n",
       "      <td>0.224056</td>\n",
       "      <td>0.084765</td>\n",
       "      <td>0.055620</td>\n",
       "      <td>0.158826</td>\n",
       "      <td>0.032968</td>\n",
       "      <td>0.183915</td>\n",
       "      <td>...</td>\n",
       "      <td>0.000000</td>\n",
       "      <td>0.088956</td>\n",
       "      <td>0.176221</td>\n",
       "      <td>0.000000</td>\n",
       "      <td>0.269828</td>\n",
       "      <td>0.062986</td>\n",
       "      <td>0.395020</td>\n",
       "      <td>0.081175</td>\n",
       "      <td>0.103223</td>\n",
       "      <td>0.054481</td>\n",
       "    </tr>\n",
       "    <tr>\n",
       "      <th>3</th>\n",
       "      <td>u101138</td>\n",
       "      <td>0.000000</td>\n",
       "      <td>0.000000</td>\n",
       "      <td>0.000000</td>\n",
       "      <td>0.287174</td>\n",
       "      <td>0.112500</td>\n",
       "      <td>0.217572</td>\n",
       "      <td>0.085098</td>\n",
       "      <td>0.440024</td>\n",
       "      <td>0.097722</td>\n",
       "      <td>...</td>\n",
       "      <td>0.000000</td>\n",
       "      <td>0.067425</td>\n",
       "      <td>0.289137</td>\n",
       "      <td>0.000000</td>\n",
       "      <td>0.199863</td>\n",
       "      <td>0.276268</td>\n",
       "      <td>0.314176</td>\n",
       "      <td>0.141157</td>\n",
       "      <td>0.000000</td>\n",
       "      <td>0.000000</td>\n",
       "    </tr>\n",
       "    <tr>\n",
       "      <th>4</th>\n",
       "      <td>u108248</td>\n",
       "      <td>0.000000</td>\n",
       "      <td>0.180702</td>\n",
       "      <td>0.000000</td>\n",
       "      <td>0.116692</td>\n",
       "      <td>0.202296</td>\n",
       "      <td>0.188526</td>\n",
       "      <td>0.198423</td>\n",
       "      <td>0.022187</td>\n",
       "      <td>0.131653</td>\n",
       "      <td>...</td>\n",
       "      <td>0.026211</td>\n",
       "      <td>0.176361</td>\n",
       "      <td>0.353500</td>\n",
       "      <td>0.012515</td>\n",
       "      <td>0.338847</td>\n",
       "      <td>0.144903</td>\n",
       "      <td>0.295219</td>\n",
       "      <td>0.079666</td>\n",
       "      <td>0.032510</td>\n",
       "      <td>0.000000</td>\n",
       "    </tr>\n",
       "  </tbody>\n",
       "</table>\n",
       "<p>5 rows × 26 columns</p>\n",
       "</div>"
      ],
      "text/plain": [
       "       uid   topic_0   topic_1   topic_2   topic_3   topic_4   topic_5  \\\n",
       "0  u105138  0.000000  0.072653  0.013014  0.080662  0.128934  0.293900   \n",
       "1  u108690  0.038184  0.146408  0.000000  0.018965  0.094901  0.083290   \n",
       "2  u108339  0.000000  0.095372  0.000000  0.224056  0.084765  0.055620   \n",
       "3  u101138  0.000000  0.000000  0.000000  0.287174  0.112500  0.217572   \n",
       "4  u108248  0.000000  0.180702  0.000000  0.116692  0.202296  0.188526   \n",
       "\n",
       "    topic_6   topic_7   topic_8  ...  topic_15  topic_16  topic_17  topic_18  \\\n",
       "0  0.194611  0.000000  0.224571  ...  0.064904  0.070406  0.159638  0.000000   \n",
       "1  0.103513  0.000000  0.143822  ...  0.018271  0.138395  0.280581  0.000000   \n",
       "2  0.158826  0.032968  0.183915  ...  0.000000  0.088956  0.176221  0.000000   \n",
       "3  0.085098  0.440024  0.097722  ...  0.000000  0.067425  0.289137  0.000000   \n",
       "4  0.198423  0.022187  0.131653  ...  0.026211  0.176361  0.353500  0.012515   \n",
       "\n",
       "   topic_19  topic_20  topic_21  topic_22  topic_23  topic_24  \n",
       "0  0.540374  0.079137  0.347956  0.173797  0.000000  0.000000  \n",
       "1  0.487212  0.042946  0.374193  0.116888  0.103262  0.012294  \n",
       "2  0.269828  0.062986  0.395020  0.081175  0.103223  0.054481  \n",
       "3  0.199863  0.276268  0.314176  0.141157  0.000000  0.000000  \n",
       "4  0.338847  0.144903  0.295219  0.079666  0.032510  0.000000  \n",
       "\n",
       "[5 rows x 26 columns]"
      ]
     },
     "execution_count": 252,
     "metadata": {},
     "output_type": "execute_result"
    }
   ],
   "source": [
    "user_embeddings_3.head()"
   ]
  },
  {
   "cell_type": "code",
   "execution_count": 253,
   "metadata": {
    "scrolled": true
   },
   "outputs": [
    {
     "data": {
      "text/html": [
       "<div>\n",
       "<style scoped>\n",
       "    .dataframe tbody tr th:only-of-type {\n",
       "        vertical-align: middle;\n",
       "    }\n",
       "\n",
       "    .dataframe tbody tr th {\n",
       "        vertical-align: top;\n",
       "    }\n",
       "\n",
       "    .dataframe thead th {\n",
       "        text-align: right;\n",
       "    }\n",
       "</style>\n",
       "<table border=\"1\" class=\"dataframe\">\n",
       "  <thead>\n",
       "    <tr style=\"text-align: right;\">\n",
       "      <th></th>\n",
       "      <th>uid</th>\n",
       "      <th>topic_0</th>\n",
       "      <th>topic_1</th>\n",
       "      <th>topic_2</th>\n",
       "      <th>topic_3</th>\n",
       "      <th>topic_4</th>\n",
       "      <th>topic_5</th>\n",
       "      <th>topic_6</th>\n",
       "      <th>topic_7</th>\n",
       "      <th>topic_8</th>\n",
       "      <th>...</th>\n",
       "      <th>topic_16</th>\n",
       "      <th>topic_17</th>\n",
       "      <th>topic_18</th>\n",
       "      <th>topic_19</th>\n",
       "      <th>topic_20</th>\n",
       "      <th>topic_21</th>\n",
       "      <th>topic_22</th>\n",
       "      <th>topic_23</th>\n",
       "      <th>topic_24</th>\n",
       "      <th>churn</th>\n",
       "    </tr>\n",
       "  </thead>\n",
       "  <tbody>\n",
       "    <tr>\n",
       "      <th>0</th>\n",
       "      <td>u105138</td>\n",
       "      <td>0.000000</td>\n",
       "      <td>0.072653</td>\n",
       "      <td>0.013014</td>\n",
       "      <td>0.080662</td>\n",
       "      <td>0.128934</td>\n",
       "      <td>0.29390</td>\n",
       "      <td>0.194611</td>\n",
       "      <td>0.000000</td>\n",
       "      <td>0.224571</td>\n",
       "      <td>...</td>\n",
       "      <td>0.070406</td>\n",
       "      <td>0.159638</td>\n",
       "      <td>0.0</td>\n",
       "      <td>0.540374</td>\n",
       "      <td>0.079137</td>\n",
       "      <td>0.347956</td>\n",
       "      <td>0.173797</td>\n",
       "      <td>0.000000</td>\n",
       "      <td>0.000000</td>\n",
       "      <td>0</td>\n",
       "    </tr>\n",
       "    <tr>\n",
       "      <th>1</th>\n",
       "      <td>u108690</td>\n",
       "      <td>0.038184</td>\n",
       "      <td>0.146408</td>\n",
       "      <td>0.000000</td>\n",
       "      <td>0.018965</td>\n",
       "      <td>0.094901</td>\n",
       "      <td>0.08329</td>\n",
       "      <td>0.103513</td>\n",
       "      <td>0.000000</td>\n",
       "      <td>0.143822</td>\n",
       "      <td>...</td>\n",
       "      <td>0.138395</td>\n",
       "      <td>0.280581</td>\n",
       "      <td>0.0</td>\n",
       "      <td>0.487212</td>\n",
       "      <td>0.042946</td>\n",
       "      <td>0.374193</td>\n",
       "      <td>0.116888</td>\n",
       "      <td>0.103262</td>\n",
       "      <td>0.012294</td>\n",
       "      <td>1</td>\n",
       "    </tr>\n",
       "    <tr>\n",
       "      <th>2</th>\n",
       "      <td>u108339</td>\n",
       "      <td>0.000000</td>\n",
       "      <td>0.095372</td>\n",
       "      <td>0.000000</td>\n",
       "      <td>0.224056</td>\n",
       "      <td>0.084765</td>\n",
       "      <td>0.05562</td>\n",
       "      <td>0.158826</td>\n",
       "      <td>0.032968</td>\n",
       "      <td>0.183915</td>\n",
       "      <td>...</td>\n",
       "      <td>0.088956</td>\n",
       "      <td>0.176221</td>\n",
       "      <td>0.0</td>\n",
       "      <td>0.269828</td>\n",
       "      <td>0.062986</td>\n",
       "      <td>0.395020</td>\n",
       "      <td>0.081175</td>\n",
       "      <td>0.103223</td>\n",
       "      <td>0.054481</td>\n",
       "      <td>1</td>\n",
       "    </tr>\n",
       "  </tbody>\n",
       "</table>\n",
       "<p>3 rows × 27 columns</p>\n",
       "</div>"
      ],
      "text/plain": [
       "       uid   topic_0   topic_1   topic_2   topic_3   topic_4  topic_5  \\\n",
       "0  u105138  0.000000  0.072653  0.013014  0.080662  0.128934  0.29390   \n",
       "1  u108690  0.038184  0.146408  0.000000  0.018965  0.094901  0.08329   \n",
       "2  u108339  0.000000  0.095372  0.000000  0.224056  0.084765  0.05562   \n",
       "\n",
       "    topic_6   topic_7   topic_8  ...  topic_16  topic_17  topic_18  topic_19  \\\n",
       "0  0.194611  0.000000  0.224571  ...  0.070406  0.159638       0.0  0.540374   \n",
       "1  0.103513  0.000000  0.143822  ...  0.138395  0.280581       0.0  0.487212   \n",
       "2  0.158826  0.032968  0.183915  ...  0.088956  0.176221       0.0  0.269828   \n",
       "\n",
       "   topic_20  topic_21  topic_22  topic_23  topic_24  churn  \n",
       "0  0.079137  0.347956  0.173797  0.000000  0.000000      0  \n",
       "1  0.042946  0.374193  0.116888  0.103262  0.012294      1  \n",
       "2  0.062986  0.395020  0.081175  0.103223  0.054481      1  \n",
       "\n",
       "[3 rows x 27 columns]"
      ]
     },
     "execution_count": 253,
     "metadata": {},
     "output_type": "execute_result"
    }
   ],
   "source": [
    "X_3 = pd.merge(user_embeddings_3, target, 'left')\n",
    "X_3.head(3)"
   ]
  },
  {
   "cell_type": "code",
   "execution_count": 254,
   "metadata": {},
   "outputs": [
    {
     "data": {
      "text/plain": [
       "array([0.05, 0.  , 0.67, 0.15, 0.1 , 0.06, 0.04, 0.02, 0.08, 0.04])"
      ]
     },
     "execution_count": 254,
     "metadata": {},
     "output_type": "execute_result"
    }
   ],
   "source": [
    "X_3_train, X_3_test, y_3_train, y_3_test = train_test_split(X_3[[f'topic_{i}' for i in range(N_topic)]], \n",
    "                                                    X_3['churn'], random_state=0)\n",
    "logreg_3 = RandomForestClassifier()\n",
    "logreg_3.fit(X_3_train, y_3_train)\n",
    "preds_3 = logreg_3.predict_proba(X_3_test)[:, 1]\n",
    "preds_3[:10]"
   ]
  },
  {
   "cell_type": "code",
   "execution_count": 255,
   "metadata": {},
   "outputs": [
    {
     "data": {
      "image/png": "[encoded data removed]",
      "text/plain": [
       "<Figure size 720x432 with 1 Axes>"
      ]
     },
     "metadata": {
      "needs_background": "light"
     },
     "output_type": "display_data"
    }
   ],
   "source": [
    "n = 50\n",
    "plt.figure(figsize=(10, 6))\n",
    "plt.plot(preds_3[:n], label='predict')\n",
    "plt.plot(y_3_test.values[:n], label='true')\n",
    "plt.title('ответ модели')\n",
    "plt.xlabel('№ примера')\n",
    "plt.ylabel('выход')\n",
    "plt.legend()\n",
    "plt.grid('On')\n",
    "plt.show()"
   ]
  },
  {
   "cell_type": "code",
   "execution_count": 256,
   "metadata": {},
   "outputs": [
    {
     "name": "stdout",
     "output_type": "stream",
     "text": [
      "Best Threshold=0.38, F-Score=0.798, Precision=0.832, Recall=0.767\n"
     ]
    }
   ],
   "source": [
    "precision_3, recall_3, thresholds_3 = precision_recall_curve(y_test, preds_3)\n",
    "# print(precision_2 + recall_2)\n",
    "fscore_3 = (2 * precision_3 * recall_3) / (precision_3 + recall_3)\n",
    "# locate the index of the largest f score\n",
    "ix_3 = np.argmax(fscore_3)\n",
    "print(f'Best Threshold={thresholds_3[ix_3]}, F-Score={fscore_3[ix_3]:.3f}, Precision={precision_3[ix_3]:.3f}, Recall={recall_3[ix_3]:.3f}')     "
   ]
  },
  {
   "cell_type": "code",
   "execution_count": 257,
   "metadata": {},
   "outputs": [
    {
     "name": "stdout",
     "output_type": "stream",
     "text": [
      "Confusion matrix, without normalization\n",
      "[[1720   35]\n",
      " [  61  184]]\n"
     ]
    },
    {
     "data": {
      "image/png": "[encoded data removed]",
      "text/plain": [
       "<Figure size 720x576 with 2 Axes>"
      ]
     },
     "metadata": {
      "needs_background": "light"
     },
     "output_type": "display_data"
    }
   ],
   "source": [
    "font = {'size' : 15}\n",
    "\n",
    "plt.rc('font', **font)\n",
    "\n",
    "cnf_matrix_3 = confusion_matrix(y_3_test, preds_3 > thresholds_3[ix_3])\n",
    "\n",
    "plt.figure(figsize=(10, 8))\n",
    "plot_confusion_matrix(cnf_matrix_3, classes=['Non-Churn', 'churn'],\n",
    "                      title='Confusion matrix')\n",
    "plt.savefig(\"conf_matrix.png\")\n",
    "plt.show()"
   ]
  },
  {
   "cell_type": "code",
   "execution_count": 258,
   "metadata": {},
   "outputs": [
    {
     "data": {
      "text/plain": [
       "0.974151985580557"
      ]
     },
     "execution_count": 258,
     "metadata": {},
     "output_type": "execute_result"
    }
   ],
   "source": [
    "roc_auc_3 = roc_auc_score(y_3_test, preds_3)\n",
    "roc_auc_3"
   ]
  },
  {
   "cell_type": "markdown",
   "metadata": {},
   "source": [
    "4. Воспользовавшись полученными знаниями из п.1, повторить пункт 2, но уже взвешивая новости по tfidf (подсказка: нужно получить веса-коэффициенты для каждого документа. Не все документы одинаково информативны и несут какой-то положительный сигнал). Подсказка 2 - нужен именно idf, как вес."
   ]
  },
  {
   "cell_type": "code",
   "execution_count": 259,
   "metadata": {},
   "outputs": [],
   "source": [
    "from gensim.models import LdaModel, TfidfModel"
   ]
  },
  {
   "cell_type": "code",
   "execution_count": 260,
   "metadata": {},
   "outputs": [],
   "source": [
    "tfidf_model = TfidfModel(common_corpus)\n",
    "common_corpus_tfidf = [tfidf_model[doc] for doc in common_corpus]\n",
    "lda_tfidf = LdaModel(common_corpus_tfidf, num_topics=25, id2word=common_dictionary)"
   ]
  },
  {
   "cell_type": "code",
   "execution_count": 261,
   "metadata": {},
   "outputs": [],
   "source": [
    "def get_lda_vector_tfidf(text):\n",
    "    unseen_doc = tfidf_model[common_dictionary.doc2bow(text)]\n",
    "    lda_tuple = lda_tfidf[unseen_doc]\n",
    "    not_null_topics = dict(zip([i[0] for i in lda_tuple], [i[1] for i in lda_tuple]))\n",
    "\n",
    "    output_vector = []\n",
    "    for i in range(N_topic):\n",
    "        if i not in not_null_topics:\n",
    "            output_vector.append(0)\n",
    "        else:\n",
    "            output_vector.append(not_null_topics[i])\n",
    "    return np.array(output_vector)"
   ]
  },
  {
   "cell_type": "code",
   "execution_count": 262,
   "metadata": {},
   "outputs": [],
   "source": [
    "topic_matrix_tfidf = pd.DataFrame([get_lda_vector_tfidf(text) for text in news['title'].values])\n",
    "topic_matrix_tfidf.columns = ['topic_{}'.format(i) for i in range(N_topic)]\n",
    "topic_matrix_tfidf['doc_id'] = news['doc_id'].values\n",
    "topic_matrix_tfidf = topic_matrix_tfidf[['doc_id']+['topic_{}'.format(i) for i in range(N_topic)]]\n",
    "doc_dict = dict(zip(topic_matrix_tfidf['doc_id'].values, topic_matrix_tfidf[['topic_{}'.format(i) for i in range(N_topic)]].values))"
   ]
  },
  {
   "cell_type": "code",
   "execution_count": 263,
   "metadata": {},
   "outputs": [
    {
     "name": "stdout",
     "output_type": "stream",
     "text": [
      "Wall time: 375 ms\n"
     ]
    },
    {
     "data": {
      "text/html": [
       "<div>\n",
       "<style scoped>\n",
       "    .dataframe tbody tr th:only-of-type {\n",
       "        vertical-align: middle;\n",
       "    }\n",
       "\n",
       "    .dataframe tbody tr th {\n",
       "        vertical-align: top;\n",
       "    }\n",
       "\n",
       "    .dataframe thead th {\n",
       "        text-align: right;\n",
       "    }\n",
       "</style>\n",
       "<table border=\"1\" class=\"dataframe\">\n",
       "  <thead>\n",
       "    <tr style=\"text-align: right;\">\n",
       "      <th></th>\n",
       "      <th>uid</th>\n",
       "      <th>topic_0</th>\n",
       "      <th>topic_1</th>\n",
       "      <th>topic_2</th>\n",
       "      <th>topic_3</th>\n",
       "      <th>topic_4</th>\n",
       "      <th>topic_5</th>\n",
       "      <th>topic_6</th>\n",
       "      <th>topic_7</th>\n",
       "      <th>topic_8</th>\n",
       "      <th>...</th>\n",
       "      <th>topic_15</th>\n",
       "      <th>topic_16</th>\n",
       "      <th>topic_17</th>\n",
       "      <th>topic_18</th>\n",
       "      <th>topic_19</th>\n",
       "      <th>topic_20</th>\n",
       "      <th>topic_21</th>\n",
       "      <th>topic_22</th>\n",
       "      <th>topic_23</th>\n",
       "      <th>topic_24</th>\n",
       "    </tr>\n",
       "  </thead>\n",
       "  <tbody>\n",
       "    <tr>\n",
       "      <th>0</th>\n",
       "      <td>u105138</td>\n",
       "      <td>0.008158</td>\n",
       "      <td>0.059158</td>\n",
       "      <td>0.048174</td>\n",
       "      <td>0.008158</td>\n",
       "      <td>0.008158</td>\n",
       "      <td>0.018823</td>\n",
       "      <td>0.035785</td>\n",
       "      <td>0.013388</td>\n",
       "      <td>0.016797</td>\n",
       "      <td>...</td>\n",
       "      <td>0.008158</td>\n",
       "      <td>0.025816</td>\n",
       "      <td>0.502962</td>\n",
       "      <td>0.085873</td>\n",
       "      <td>0.008158</td>\n",
       "      <td>0.008158</td>\n",
       "      <td>0.016934</td>\n",
       "      <td>0.008158</td>\n",
       "      <td>0.008158</td>\n",
       "      <td>0.008158</td>\n",
       "    </tr>\n",
       "    <tr>\n",
       "      <th>1</th>\n",
       "      <td>u108690</td>\n",
       "      <td>0.000000</td>\n",
       "      <td>0.072406</td>\n",
       "      <td>0.034317</td>\n",
       "      <td>0.000000</td>\n",
       "      <td>0.010005</td>\n",
       "      <td>0.000000</td>\n",
       "      <td>0.042297</td>\n",
       "      <td>0.004095</td>\n",
       "      <td>0.026990</td>\n",
       "      <td>...</td>\n",
       "      <td>0.000000</td>\n",
       "      <td>0.004585</td>\n",
       "      <td>0.533601</td>\n",
       "      <td>0.127345</td>\n",
       "      <td>0.000000</td>\n",
       "      <td>0.000000</td>\n",
       "      <td>0.005763</td>\n",
       "      <td>0.006125</td>\n",
       "      <td>0.000000</td>\n",
       "      <td>0.000000</td>\n",
       "    </tr>\n",
       "    <tr>\n",
       "      <th>2</th>\n",
       "      <td>u108339</td>\n",
       "      <td>0.000000</td>\n",
       "      <td>0.069966</td>\n",
       "      <td>0.044394</td>\n",
       "      <td>0.000000</td>\n",
       "      <td>0.027155</td>\n",
       "      <td>0.000000</td>\n",
       "      <td>0.039230</td>\n",
       "      <td>0.000000</td>\n",
       "      <td>0.019643</td>\n",
       "      <td>...</td>\n",
       "      <td>0.000000</td>\n",
       "      <td>0.006651</td>\n",
       "      <td>0.481812</td>\n",
       "      <td>0.135410</td>\n",
       "      <td>0.000000</td>\n",
       "      <td>0.000000</td>\n",
       "      <td>0.012606</td>\n",
       "      <td>0.004123</td>\n",
       "      <td>0.000000</td>\n",
       "      <td>0.012899</td>\n",
       "    </tr>\n",
       "  </tbody>\n",
       "</table>\n",
       "<p>3 rows × 26 columns</p>\n",
       "</div>"
      ],
      "text/plain": [
       "       uid   topic_0   topic_1   topic_2   topic_3   topic_4   topic_5  \\\n",
       "0  u105138  0.008158  0.059158  0.048174  0.008158  0.008158  0.018823   \n",
       "1  u108690  0.000000  0.072406  0.034317  0.000000  0.010005  0.000000   \n",
       "2  u108339  0.000000  0.069966  0.044394  0.000000  0.027155  0.000000   \n",
       "\n",
       "    topic_6   topic_7   topic_8  ...  topic_15  topic_16  topic_17  topic_18  \\\n",
       "0  0.035785  0.013388  0.016797  ...  0.008158  0.025816  0.502962  0.085873   \n",
       "1  0.042297  0.004095  0.026990  ...  0.000000  0.004585  0.533601  0.127345   \n",
       "2  0.039230  0.000000  0.019643  ...  0.000000  0.006651  0.481812  0.135410   \n",
       "\n",
       "   topic_19  topic_20  topic_21  topic_22  topic_23  topic_24  \n",
       "0  0.008158  0.008158  0.016934  0.008158  0.008158  0.008158  \n",
       "1  0.000000  0.000000  0.005763  0.006125  0.000000  0.000000  \n",
       "2  0.000000  0.000000  0.012606  0.004123  0.000000  0.012899  \n",
       "\n",
       "[3 rows x 26 columns]"
      ]
     },
     "execution_count": 263,
     "metadata": {},
     "output_type": "execute_result"
    }
   ],
   "source": [
    "%%time\n",
    "user_embeddings_4 = pd.DataFrame([i for i in users['articles'].apply(lambda x: get_user_embedding(x))])\n",
    "user_embeddings_4.columns = [f'topic_{i}' for i in range(N_topic)]\n",
    "user_embeddings_4['uid'] = users['uid'].values\n",
    "user_embeddings_4 = user_embeddings_4[['uid']+[f'topic_{i}' for i in range(N_topic)]]\n",
    "user_embeddings_4.head(3)"
   ]
  },
  {
   "cell_type": "code",
   "execution_count": 264,
   "metadata": {},
   "outputs": [
    {
     "data": {
      "text/html": [
       "<div>\n",
       "<style scoped>\n",
       "    .dataframe tbody tr th:only-of-type {\n",
       "        vertical-align: middle;\n",
       "    }\n",
       "\n",
       "    .dataframe tbody tr th {\n",
       "        vertical-align: top;\n",
       "    }\n",
       "\n",
       "    .dataframe thead th {\n",
       "        text-align: right;\n",
       "    }\n",
       "</style>\n",
       "<table border=\"1\" class=\"dataframe\">\n",
       "  <thead>\n",
       "    <tr style=\"text-align: right;\">\n",
       "      <th></th>\n",
       "      <th>uid</th>\n",
       "      <th>topic_0</th>\n",
       "      <th>topic_1</th>\n",
       "      <th>topic_2</th>\n",
       "      <th>topic_3</th>\n",
       "      <th>topic_4</th>\n",
       "      <th>topic_5</th>\n",
       "      <th>topic_6</th>\n",
       "      <th>topic_7</th>\n",
       "      <th>topic_8</th>\n",
       "      <th>...</th>\n",
       "      <th>topic_15</th>\n",
       "      <th>topic_16</th>\n",
       "      <th>topic_17</th>\n",
       "      <th>topic_18</th>\n",
       "      <th>topic_19</th>\n",
       "      <th>topic_20</th>\n",
       "      <th>topic_21</th>\n",
       "      <th>topic_22</th>\n",
       "      <th>topic_23</th>\n",
       "      <th>topic_24</th>\n",
       "    </tr>\n",
       "  </thead>\n",
       "  <tbody>\n",
       "    <tr>\n",
       "      <th>0</th>\n",
       "      <td>u105138</td>\n",
       "      <td>0.008158</td>\n",
       "      <td>0.059158</td>\n",
       "      <td>0.048174</td>\n",
       "      <td>0.008158</td>\n",
       "      <td>0.008158</td>\n",
       "      <td>0.018823</td>\n",
       "      <td>0.035785</td>\n",
       "      <td>0.013388</td>\n",
       "      <td>0.016797</td>\n",
       "      <td>...</td>\n",
       "      <td>0.008158</td>\n",
       "      <td>0.025816</td>\n",
       "      <td>0.502962</td>\n",
       "      <td>0.085873</td>\n",
       "      <td>0.008158</td>\n",
       "      <td>0.008158</td>\n",
       "      <td>0.016934</td>\n",
       "      <td>0.008158</td>\n",
       "      <td>0.008158</td>\n",
       "      <td>0.008158</td>\n",
       "    </tr>\n",
       "    <tr>\n",
       "      <th>1</th>\n",
       "      <td>u108690</td>\n",
       "      <td>0.000000</td>\n",
       "      <td>0.072406</td>\n",
       "      <td>0.034317</td>\n",
       "      <td>0.000000</td>\n",
       "      <td>0.010005</td>\n",
       "      <td>0.000000</td>\n",
       "      <td>0.042297</td>\n",
       "      <td>0.004095</td>\n",
       "      <td>0.026990</td>\n",
       "      <td>...</td>\n",
       "      <td>0.000000</td>\n",
       "      <td>0.004585</td>\n",
       "      <td>0.533601</td>\n",
       "      <td>0.127345</td>\n",
       "      <td>0.000000</td>\n",
       "      <td>0.000000</td>\n",
       "      <td>0.005763</td>\n",
       "      <td>0.006125</td>\n",
       "      <td>0.000000</td>\n",
       "      <td>0.000000</td>\n",
       "    </tr>\n",
       "    <tr>\n",
       "      <th>2</th>\n",
       "      <td>u108339</td>\n",
       "      <td>0.000000</td>\n",
       "      <td>0.069966</td>\n",
       "      <td>0.044394</td>\n",
       "      <td>0.000000</td>\n",
       "      <td>0.027155</td>\n",
       "      <td>0.000000</td>\n",
       "      <td>0.039230</td>\n",
       "      <td>0.000000</td>\n",
       "      <td>0.019643</td>\n",
       "      <td>...</td>\n",
       "      <td>0.000000</td>\n",
       "      <td>0.006651</td>\n",
       "      <td>0.481812</td>\n",
       "      <td>0.135410</td>\n",
       "      <td>0.000000</td>\n",
       "      <td>0.000000</td>\n",
       "      <td>0.012606</td>\n",
       "      <td>0.004123</td>\n",
       "      <td>0.000000</td>\n",
       "      <td>0.012899</td>\n",
       "    </tr>\n",
       "    <tr>\n",
       "      <th>3</th>\n",
       "      <td>u101138</td>\n",
       "      <td>0.001852</td>\n",
       "      <td>0.052044</td>\n",
       "      <td>0.016541</td>\n",
       "      <td>0.001852</td>\n",
       "      <td>0.001852</td>\n",
       "      <td>0.001852</td>\n",
       "      <td>0.044987</td>\n",
       "      <td>0.001852</td>\n",
       "      <td>0.001852</td>\n",
       "      <td>...</td>\n",
       "      <td>0.001852</td>\n",
       "      <td>0.001852</td>\n",
       "      <td>0.606094</td>\n",
       "      <td>0.086284</td>\n",
       "      <td>0.001852</td>\n",
       "      <td>0.001852</td>\n",
       "      <td>0.014885</td>\n",
       "      <td>0.011345</td>\n",
       "      <td>0.001852</td>\n",
       "      <td>0.001852</td>\n",
       "    </tr>\n",
       "    <tr>\n",
       "      <th>4</th>\n",
       "      <td>u108248</td>\n",
       "      <td>0.001990</td>\n",
       "      <td>0.077148</td>\n",
       "      <td>0.093920</td>\n",
       "      <td>0.001990</td>\n",
       "      <td>0.001990</td>\n",
       "      <td>0.001990</td>\n",
       "      <td>0.020602</td>\n",
       "      <td>0.001990</td>\n",
       "      <td>0.023497</td>\n",
       "      <td>...</td>\n",
       "      <td>0.001990</td>\n",
       "      <td>0.023112</td>\n",
       "      <td>0.462019</td>\n",
       "      <td>0.126902</td>\n",
       "      <td>0.001990</td>\n",
       "      <td>0.001990</td>\n",
       "      <td>0.001990</td>\n",
       "      <td>0.001990</td>\n",
       "      <td>0.001990</td>\n",
       "      <td>0.001990</td>\n",
       "    </tr>\n",
       "  </tbody>\n",
       "</table>\n",
       "<p>5 rows × 26 columns</p>\n",
       "</div>"
      ],
      "text/plain": [
       "       uid   topic_0   topic_1   topic_2   topic_3   topic_4   topic_5  \\\n",
       "0  u105138  0.008158  0.059158  0.048174  0.008158  0.008158  0.018823   \n",
       "1  u108690  0.000000  0.072406  0.034317  0.000000  0.010005  0.000000   \n",
       "2  u108339  0.000000  0.069966  0.044394  0.000000  0.027155  0.000000   \n",
       "3  u101138  0.001852  0.052044  0.016541  0.001852  0.001852  0.001852   \n",
       "4  u108248  0.001990  0.077148  0.093920  0.001990  0.001990  0.001990   \n",
       "\n",
       "    topic_6   topic_7   topic_8  ...  topic_15  topic_16  topic_17  topic_18  \\\n",
       "0  0.035785  0.013388  0.016797  ...  0.008158  0.025816  0.502962  0.085873   \n",
       "1  0.042297  0.004095  0.026990  ...  0.000000  0.004585  0.533601  0.127345   \n",
       "2  0.039230  0.000000  0.019643  ...  0.000000  0.006651  0.481812  0.135410   \n",
       "3  0.044987  0.001852  0.001852  ...  0.001852  0.001852  0.606094  0.086284   \n",
       "4  0.020602  0.001990  0.023497  ...  0.001990  0.023112  0.462019  0.126902   \n",
       "\n",
       "   topic_19  topic_20  topic_21  topic_22  topic_23  topic_24  \n",
       "0  0.008158  0.008158  0.016934  0.008158  0.008158  0.008158  \n",
       "1  0.000000  0.000000  0.005763  0.006125  0.000000  0.000000  \n",
       "2  0.000000  0.000000  0.012606  0.004123  0.000000  0.012899  \n",
       "3  0.001852  0.001852  0.014885  0.011345  0.001852  0.001852  \n",
       "4  0.001990  0.001990  0.001990  0.001990  0.001990  0.001990  \n",
       "\n",
       "[5 rows x 26 columns]"
      ]
     },
     "execution_count": 264,
     "metadata": {},
     "output_type": "execute_result"
    }
   ],
   "source": [
    "user_embeddings_4.head()"
   ]
  },
  {
   "cell_type": "code",
   "execution_count": 265,
   "metadata": {},
   "outputs": [
    {
     "data": {
      "text/html": [
       "<div>\n",
       "<style scoped>\n",
       "    .dataframe tbody tr th:only-of-type {\n",
       "        vertical-align: middle;\n",
       "    }\n",
       "\n",
       "    .dataframe tbody tr th {\n",
       "        vertical-align: top;\n",
       "    }\n",
       "\n",
       "    .dataframe thead th {\n",
       "        text-align: right;\n",
       "    }\n",
       "</style>\n",
       "<table border=\"1\" class=\"dataframe\">\n",
       "  <thead>\n",
       "    <tr style=\"text-align: right;\">\n",
       "      <th></th>\n",
       "      <th>uid</th>\n",
       "      <th>topic_0</th>\n",
       "      <th>topic_1</th>\n",
       "      <th>topic_2</th>\n",
       "      <th>topic_3</th>\n",
       "      <th>topic_4</th>\n",
       "      <th>topic_5</th>\n",
       "      <th>topic_6</th>\n",
       "      <th>topic_7</th>\n",
       "      <th>topic_8</th>\n",
       "      <th>...</th>\n",
       "      <th>topic_16</th>\n",
       "      <th>topic_17</th>\n",
       "      <th>topic_18</th>\n",
       "      <th>topic_19</th>\n",
       "      <th>topic_20</th>\n",
       "      <th>topic_21</th>\n",
       "      <th>topic_22</th>\n",
       "      <th>topic_23</th>\n",
       "      <th>topic_24</th>\n",
       "      <th>churn</th>\n",
       "    </tr>\n",
       "  </thead>\n",
       "  <tbody>\n",
       "    <tr>\n",
       "      <th>0</th>\n",
       "      <td>u105138</td>\n",
       "      <td>0.008158</td>\n",
       "      <td>0.059158</td>\n",
       "      <td>0.048174</td>\n",
       "      <td>0.008158</td>\n",
       "      <td>0.008158</td>\n",
       "      <td>0.018823</td>\n",
       "      <td>0.035785</td>\n",
       "      <td>0.013388</td>\n",
       "      <td>0.016797</td>\n",
       "      <td>...</td>\n",
       "      <td>0.025816</td>\n",
       "      <td>0.502962</td>\n",
       "      <td>0.085873</td>\n",
       "      <td>0.008158</td>\n",
       "      <td>0.008158</td>\n",
       "      <td>0.016934</td>\n",
       "      <td>0.008158</td>\n",
       "      <td>0.008158</td>\n",
       "      <td>0.008158</td>\n",
       "      <td>0</td>\n",
       "    </tr>\n",
       "    <tr>\n",
       "      <th>1</th>\n",
       "      <td>u108690</td>\n",
       "      <td>0.000000</td>\n",
       "      <td>0.072406</td>\n",
       "      <td>0.034317</td>\n",
       "      <td>0.000000</td>\n",
       "      <td>0.010005</td>\n",
       "      <td>0.000000</td>\n",
       "      <td>0.042297</td>\n",
       "      <td>0.004095</td>\n",
       "      <td>0.026990</td>\n",
       "      <td>...</td>\n",
       "      <td>0.004585</td>\n",
       "      <td>0.533601</td>\n",
       "      <td>0.127345</td>\n",
       "      <td>0.000000</td>\n",
       "      <td>0.000000</td>\n",
       "      <td>0.005763</td>\n",
       "      <td>0.006125</td>\n",
       "      <td>0.000000</td>\n",
       "      <td>0.000000</td>\n",
       "      <td>1</td>\n",
       "    </tr>\n",
       "    <tr>\n",
       "      <th>2</th>\n",
       "      <td>u108339</td>\n",
       "      <td>0.000000</td>\n",
       "      <td>0.069966</td>\n",
       "      <td>0.044394</td>\n",
       "      <td>0.000000</td>\n",
       "      <td>0.027155</td>\n",
       "      <td>0.000000</td>\n",
       "      <td>0.039230</td>\n",
       "      <td>0.000000</td>\n",
       "      <td>0.019643</td>\n",
       "      <td>...</td>\n",
       "      <td>0.006651</td>\n",
       "      <td>0.481812</td>\n",
       "      <td>0.135410</td>\n",
       "      <td>0.000000</td>\n",
       "      <td>0.000000</td>\n",
       "      <td>0.012606</td>\n",
       "      <td>0.004123</td>\n",
       "      <td>0.000000</td>\n",
       "      <td>0.012899</td>\n",
       "      <td>1</td>\n",
       "    </tr>\n",
       "  </tbody>\n",
       "</table>\n",
       "<p>3 rows × 27 columns</p>\n",
       "</div>"
      ],
      "text/plain": [
       "       uid   topic_0   topic_1   topic_2   topic_3   topic_4   topic_5  \\\n",
       "0  u105138  0.008158  0.059158  0.048174  0.008158  0.008158  0.018823   \n",
       "1  u108690  0.000000  0.072406  0.034317  0.000000  0.010005  0.000000   \n",
       "2  u108339  0.000000  0.069966  0.044394  0.000000  0.027155  0.000000   \n",
       "\n",
       "    topic_6   topic_7   topic_8  ...  topic_16  topic_17  topic_18  topic_19  \\\n",
       "0  0.035785  0.013388  0.016797  ...  0.025816  0.502962  0.085873  0.008158   \n",
       "1  0.042297  0.004095  0.026990  ...  0.004585  0.533601  0.127345  0.000000   \n",
       "2  0.039230  0.000000  0.019643  ...  0.006651  0.481812  0.135410  0.000000   \n",
       "\n",
       "   topic_20  topic_21  topic_22  topic_23  topic_24  churn  \n",
       "0  0.008158  0.016934  0.008158  0.008158  0.008158      0  \n",
       "1  0.000000  0.005763  0.006125  0.000000  0.000000      1  \n",
       "2  0.000000  0.012606  0.004123  0.000000  0.012899      1  \n",
       "\n",
       "[3 rows x 27 columns]"
      ]
     },
     "execution_count": 265,
     "metadata": {},
     "output_type": "execute_result"
    }
   ],
   "source": [
    "X_4 = pd.merge(user_embeddings_4, target, 'left')\n",
    "X_4.head(3)"
   ]
  },
  {
   "cell_type": "code",
   "execution_count": 266,
   "metadata": {},
   "outputs": [
    {
     "data": {
      "text/plain": [
       "array([0.12, 0.  , 0.85, 0.02, 0.  , 0.  , 0.  , 0.  , 0.  , 0.27])"
      ]
     },
     "execution_count": 266,
     "metadata": {},
     "output_type": "execute_result"
    }
   ],
   "source": [
    "X_4_train, X_4_test, y_4_train, y_4_test = train_test_split(X_4[[f'topic_{i}' for i in range(N_topic)]], \n",
    "                                                    X_4['churn'], random_state=0)\n",
    "logreg_4 = RandomForestClassifier()\n",
    "logreg_4.fit(X_4_train, y_4_train)\n",
    "preds_4 = logreg_4.predict_proba(X_4_test)[:, 1]\n",
    "preds_4[:10]"
   ]
  },
  {
   "cell_type": "code",
   "execution_count": 267,
   "metadata": {},
   "outputs": [
    {
     "name": "stdout",
     "output_type": "stream",
     "text": [
      "[0.12 0.   0.85 ... 0.   0.   0.  ]\n"
     ]
    }
   ],
   "source": [
    "print(preds_4)"
   ]
  },
  {
   "cell_type": "code",
   "execution_count": 268,
   "metadata": {},
   "outputs": [
    {
     "data": {
      "image/png": "[encoded data removed]",
      "text/plain": [
       "<Figure size 720x432 with 1 Axes>"
      ]
     },
     "metadata": {
      "needs_background": "light"
     },
     "output_type": "display_data"
    }
   ],
   "source": [
    "n = 50\n",
    "plt.figure(figsize=(10, 6))\n",
    "plt.plot(preds_4[:n], label='predict')\n",
    "plt.plot(y_4_test.values[:n], label='true')\n",
    "plt.title('ответ модели')\n",
    "plt.xlabel('№ примера')\n",
    "plt.ylabel('выход')\n",
    "plt.legend()\n",
    "plt.grid('On')\n",
    "plt.show()"
   ]
  },
  {
   "cell_type": "code",
   "execution_count": 269,
   "metadata": {},
   "outputs": [
    {
     "name": "stdout",
     "output_type": "stream",
     "text": [
      "Best Threshold=0.39, F-Score=0.787, Precision=0.767, Recall=0.808\n"
     ]
    }
   ],
   "source": [
    "# precision_4, recall_4, thresholds_4 = precision_recall_curve(y_test, np.round(abs(preds_4))) #preds_4)\n",
    "precision_4, recall_4, thresholds_4 = precision_recall_curve(y_test, preds_4)\n",
    "fscore_4 = (2 * precision_4 * recall_4) / (precision_4 + recall_4)\n",
    "# locate the index of the largest f score\n",
    "ix_4 = np.argmax(fscore_4)\n",
    "print(f'Best Threshold={thresholds_4[ix_4]}, F-Score={fscore_4[ix_4]:.3f}, Precision={precision_4[ix_4]:.3f}, Recall={recall_4[ix_4]:.3f}') "
   ]
  },
  {
   "cell_type": "code",
   "execution_count": 270,
   "metadata": {},
   "outputs": [
    {
     "name": "stdout",
     "output_type": "stream",
     "text": [
      "Confusion matrix, without normalization\n",
      "[[1696   59]\n",
      " [  49  196]]\n"
     ]
    },
    {
     "data": {
      "image/png": "[encoded data removed]",
      "text/plain": [
       "<Figure size 720x576 with 2 Axes>"
      ]
     },
     "metadata": {
      "needs_background": "light"
     },
     "output_type": "display_data"
    }
   ],
   "source": [
    "font = {'size' : 15}\n",
    "\n",
    "plt.rc('font', **font)\n",
    "\n",
    "cnf_matrix_4 = confusion_matrix(y_4_test, preds_4 > thresholds_4[ix_4])\n",
    "\n",
    "plt.figure(figsize=(10, 8))\n",
    "plot_confusion_matrix(cnf_matrix_4, classes=['Non-Churn', 'churn'],\n",
    "                      title='Confusion matrix')\n",
    "plt.savefig(\"conf_matrix.png\")\n",
    "plt.show()"
   ]
  },
  {
   "cell_type": "code",
   "execution_count": 271,
   "metadata": {},
   "outputs": [
    {
     "data": {
      "text/plain": [
       "0.9751485551485553"
      ]
     },
     "execution_count": 271,
     "metadata": {},
     "output_type": "execute_result"
    }
   ],
   "source": [
    "roc_auc_4 = roc_auc_score(y_4_test, preds_4)\n",
    "roc_auc_4"
   ]
  },
  {
   "cell_type": "markdown",
   "metadata": {},
   "source": [
    "5. Сформировать на выходе единую таблицу, сравнивающую качество 3 разных метода получения эмбедингов пользователей: mean, median, max, idf_mean по метрикам roc_auc, precision, recall, f_score"
   ]
  },
  {
   "cell_type": "code",
   "execution_count": 272,
   "metadata": {},
   "outputs": [
    {
     "data": {
      "text/html": [
       "<div>\n",
       "<style scoped>\n",
       "    .dataframe tbody tr th:only-of-type {\n",
       "        vertical-align: middle;\n",
       "    }\n",
       "\n",
       "    .dataframe tbody tr th {\n",
       "        vertical-align: top;\n",
       "    }\n",
       "\n",
       "    .dataframe thead th {\n",
       "        text-align: right;\n",
       "    }\n",
       "</style>\n",
       "<table border=\"1\" class=\"dataframe\">\n",
       "  <thead>\n",
       "    <tr style=\"text-align: right;\">\n",
       "      <th></th>\n",
       "      <th>methods</th>\n",
       "      <th>roc_auc</th>\n",
       "      <th>precision</th>\n",
       "      <th>recall</th>\n",
       "      <th>f_score</th>\n",
       "    </tr>\n",
       "  </thead>\n",
       "  <tbody>\n",
       "    <tr>\n",
       "      <th>0</th>\n",
       "      <td>mean</td>\n",
       "      <td>0.970611</td>\n",
       "      <td>0.881279</td>\n",
       "      <td>0.787755</td>\n",
       "      <td>0.831897</td>\n",
       "    </tr>\n",
       "    <tr>\n",
       "      <th>1</th>\n",
       "      <td>median</td>\n",
       "      <td>0.996823</td>\n",
       "      <td>0.922780</td>\n",
       "      <td>0.975510</td>\n",
       "      <td>0.948413</td>\n",
       "    </tr>\n",
       "    <tr>\n",
       "      <th>2</th>\n",
       "      <td>max</td>\n",
       "      <td>0.974152</td>\n",
       "      <td>0.831858</td>\n",
       "      <td>0.767347</td>\n",
       "      <td>0.798301</td>\n",
       "    </tr>\n",
       "    <tr>\n",
       "      <th>3</th>\n",
       "      <td>idf_mean</td>\n",
       "      <td>0.975149</td>\n",
       "      <td>0.767442</td>\n",
       "      <td>0.808163</td>\n",
       "      <td>0.787276</td>\n",
       "    </tr>\n",
       "  </tbody>\n",
       "</table>\n",
       "</div>"
      ],
      "text/plain": [
       "     methods   roc_auc  precision    recall   f_score\n",
       "0       mean  0.970611   0.881279  0.787755  0.831897\n",
       "1     median  0.996823   0.922780  0.975510  0.948413\n",
       "2        max  0.974152   0.831858  0.767347  0.798301\n",
       "3  idf_mean   0.975149   0.767442  0.808163  0.787276"
      ]
     },
     "execution_count": 272,
     "metadata": {},
     "output_type": "execute_result"
    }
   ],
   "source": [
    "df=pd.DataFrame(\n",
    "    {\n",
    "        'methods':['mean', 'median','max','idf_mean ']\n",
    "        ,'roc_auc':[roc_auc, roc_auc_2, roc_auc_3, roc_auc_4]\n",
    "        ,'precision': [precision[ix], precision_2[ix_2], precision_3[ix_3], precision_4[ix_4]]\n",
    "        ,'recall': [recall[ix], recall_2[ix_2], recall_3[ix_3], recall_4[ix_4]]\n",
    "        ,'f_score': [fscore[ix], fscore_2[ix_2], fscore_3[ix_3], fscore_4[ix_4]]\n",
    "    }\n",
    ")\n",
    "df"
   ]
  },
  {
   "cell_type": "markdown",
   "metadata": {},
   "source": [
    "6. Сделать самостоятельные выводы и предположения о том, почему тот или ной способ оказался эффективнее остальных"
   ]
  },
  {
   "cell_type": "markdown",
   "metadata": {},
   "source": [
    "Показатели по медиане несколько лучше, чем по максимальному значению или среднему, т.к. медиана более устойчива к выбросам. "
   ]
  }
 ],
 "metadata": {
  "kernelspec": {
   "display_name": "Python 3 (ipykernel)",
   "language": "python",
   "name": "python3"
  },
  "language_info": {
   "codemirror_mode": {
    "name": "ipython",
    "version": 3
   },
   "file_extension": ".py",
   "mimetype": "text/x-python",
   "name": "python",
   "nbconvert_exporter": "python",
   "pygments_lexer": "ipython3",
   "version": "3.9.7"
  }
 },
 "nbformat": 4,
 "nbformat_minor": 2
}
